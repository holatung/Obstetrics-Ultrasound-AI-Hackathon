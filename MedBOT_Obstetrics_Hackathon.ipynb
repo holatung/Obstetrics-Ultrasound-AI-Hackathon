{
  "cells": [
    {
      "cell_type": "markdown",
      "metadata": {
        "id": "view-in-github",
        "colab_type": "text"
      },
      "source": [
        "<a href=\"https://colab.research.google.com/github/holatung/Obstetrics-Ultrasound-AI-Hackathon/blob/main/MedBOT_Obstetrics_Hackathon.ipynb\" target=\"_parent\"><img src=\"https://colab.research.google.com/assets/colab-badge.svg\" alt=\"Open In Colab\"/></a>"
      ]
    },
    {
      "cell_type": "markdown",
      "id": "f411f2ae-0f83-4aa4-8a63-52c853bc83d4",
      "metadata": {
        "id": "f411f2ae-0f83-4aa4-8a63-52c853bc83d4"
      },
      "source": [
        "Gender Prediction Model"
      ]
    },
    {
      "cell_type": "code",
      "execution_count": null,
      "id": "04fd3d33-7328-4128-bc1d-dff757d17d21",
      "metadata": {
        "id": "04fd3d33-7328-4128-bc1d-dff757d17d21"
      },
      "outputs": [],
      "source": [
        "import os\n",
        "import pandas as pd\n",
        "import numpy as np\n",
        "import matplotlib.pyplot as plt\n",
        "import seaborn as sns\n",
        "\n",
        "from sklearn.model_selection import train_test_split\n",
        "from sklearn.preprocessing import LabelEncoder, StandardScaler\n",
        "from sklearn.ensemble import RandomForestClassifier\n",
        "from sklearn.metrics import classification_report, accuracy_score, confusion_matrix"
      ]
    },
    {
      "cell_type": "code",
      "execution_count": null,
      "id": "995f1f92-f54f-4b56-85bb-902ff3a6176d",
      "metadata": {
        "id": "995f1f92-f54f-4b56-85bb-902ff3a6176d",
        "outputId": "588a2138-fe40-4ef5-98b9-d07dc3877548"
      },
      "outputs": [
        {
          "data": {
            "text/html": [
              "<div>\n",
              "<style scoped>\n",
              "    .dataframe tbody tr th:only-of-type {\n",
              "        vertical-align: middle;\n",
              "    }\n",
              "\n",
              "    .dataframe tbody tr th {\n",
              "        vertical-align: top;\n",
              "    }\n",
              "\n",
              "    .dataframe thead th {\n",
              "        text-align: right;\n",
              "    }\n",
              "</style>\n",
              "<table border=\"1\" class=\"dataframe\">\n",
              "  <thead>\n",
              "    <tr style=\"text-align: right;\">\n",
              "      <th></th>\n",
              "      <th>Image_name</th>\n",
              "      <th>Plane</th>\n",
              "    </tr>\n",
              "  </thead>\n",
              "  <tbody>\n",
              "    <tr>\n",
              "      <th>0</th>\n",
              "      <td>Patient01018_Plane3_2_of_3</td>\n",
              "      <td>Fetal brain</td>\n",
              "    </tr>\n",
              "    <tr>\n",
              "      <th>1</th>\n",
              "      <td>Patient00770_Plane3_2_of_3</td>\n",
              "      <td>Fetal brain</td>\n",
              "    </tr>\n",
              "    <tr>\n",
              "      <th>2</th>\n",
              "      <td>Patient00853_Plane3_1_of_3</td>\n",
              "      <td>Fetal brain</td>\n",
              "    </tr>\n",
              "    <tr>\n",
              "      <th>3</th>\n",
              "      <td>Patient01230_Plane3_5_of_5</td>\n",
              "      <td>Fetal brain</td>\n",
              "    </tr>\n",
              "    <tr>\n",
              "      <th>4</th>\n",
              "      <td>Patient01494_Plane3_3_of_4</td>\n",
              "      <td>Fetal brain</td>\n",
              "    </tr>\n",
              "    <tr>\n",
              "      <th>...</th>\n",
              "      <td>...</td>\n",
              "      <td>...</td>\n",
              "    </tr>\n",
              "    <tr>\n",
              "      <th>1641</th>\n",
              "      <td>Patient00647_Plane2_1_of_1</td>\n",
              "      <td>Fetal abdomen</td>\n",
              "    </tr>\n",
              "    <tr>\n",
              "      <th>1642</th>\n",
              "      <td>Patient00829_Plane2_1_of_1</td>\n",
              "      <td>Fetal abdomen</td>\n",
              "    </tr>\n",
              "    <tr>\n",
              "      <th>1643</th>\n",
              "      <td>Patient01533_Plane2_1_of_1</td>\n",
              "      <td>Fetal abdomen</td>\n",
              "    </tr>\n",
              "    <tr>\n",
              "      <th>1644</th>\n",
              "      <td>Patient01589_Plane2_1_of_1</td>\n",
              "      <td>Fetal abdomen</td>\n",
              "    </tr>\n",
              "    <tr>\n",
              "      <th>1645</th>\n",
              "      <td>Patient01162_Plane2_1_of_1</td>\n",
              "      <td>Fetal abdomen</td>\n",
              "    </tr>\n",
              "  </tbody>\n",
              "</table>\n",
              "<p>1646 rows × 2 columns</p>\n",
              "</div>"
            ],
            "text/plain": [
              "                      Image_name          Plane\n",
              "0     Patient01018_Plane3_2_of_3    Fetal brain\n",
              "1     Patient00770_Plane3_2_of_3    Fetal brain\n",
              "2     Patient00853_Plane3_1_of_3    Fetal brain\n",
              "3     Patient01230_Plane3_5_of_5    Fetal brain\n",
              "4     Patient01494_Plane3_3_of_4    Fetal brain\n",
              "...                          ...            ...\n",
              "1641  Patient00647_Plane2_1_of_1  Fetal abdomen\n",
              "1642  Patient00829_Plane2_1_of_1  Fetal abdomen\n",
              "1643  Patient01533_Plane2_1_of_1  Fetal abdomen\n",
              "1644  Patient01589_Plane2_1_of_1  Fetal abdomen\n",
              "1645  Patient01162_Plane2_1_of_1  Fetal abdomen\n",
              "\n",
              "[1646 rows x 2 columns]"
            ]
          },
          "execution_count": 59,
          "metadata": {},
          "output_type": "execute_result"
        }
      ],
      "source": [
        "images_df = pd.read_csv('image.csv')\n",
        "images_df"
      ]
    },
    {
      "cell_type": "code",
      "execution_count": null,
      "id": "91184234-9c68-443d-b49e-3df74d92bc81",
      "metadata": {
        "id": "91184234-9c68-443d-b49e-3df74d92bc81",
        "outputId": "b61a75fe-9f57-4bc7-e316-683fcc9d93b4"
      },
      "outputs": [
        {
          "name": "stdout",
          "output_type": "stream",
          "text": [
            "['.DS_Store', 'images.csv', 'test', 'images']\n"
          ]
        }
      ],
      "source": [
        "base_path = \"/Users/macbookair2020/Downloads/Ultrasound\"\n",
        "basename = os.path.basename(base_path)\n",
        "print(os.listdir(base_path))"
      ]
    },
    {
      "cell_type": "markdown",
      "id": "f9a3bfd7-d84a-40d1-89b9-e978497b9fc8",
      "metadata": {
        "id": "f9a3bfd7-d84a-40d1-89b9-e978497b9fc8"
      },
      "source": [
        "List contents of images and test"
      ]
    },
    {
      "cell_type": "code",
      "execution_count": null,
      "id": "06972e82-e40e-4f0a-9927-d1319c5b6510",
      "metadata": {
        "id": "06972e82-e40e-4f0a-9927-d1319c5b6510",
        "outputId": "d89e7162-121a-4a22-df50-c26757b852b9"
      },
      "outputs": [
        {
          "name": "stdout",
          "output_type": "stream",
          "text": [
            "\n",
            "Contents of /Users/macbookair2020/Downloads/Ultrasound/images:\n",
            "['Patient00902_Plane3_3_of_5.png', 'Patient01393_Plane3_1_of_2.png', 'Patient00902_Plane3_2_of_5.png', 'Patient01155_Plane3_3_of_6.png', 'Patient01165_Plane2_1_of_1.png', 'Patient00898_Plane6_3_of_4.png', 'Patient01232_Plane2_1_of_1.png', 'Patient00731_Plane6_3_of_4.png', 'Patient00846_Plane3_1_of_2.png', 'Patient00766_Plane6_3_of_6.png']\n",
            "\n",
            "Contents of /Users/macbookair2020/Downloads/Ultrasound/test:\n",
            "['Patient01631_Plane1_14_of_16.png', 'Patient01657_Plane1_2_of_2.png', 'Patient01600_Plane6_1_of_8.png', 'Patient01663_Plane3_4_of_5.png', 'Patient01606_Plane3_2_of_5.png', 'Patient01696_Plane6_1_of_3.png', 'Patient01660_Plane6_2_of_2.png', 'Patient01697_Plane3_1_of_2.png', 'Patient01698_Plane6_2_of_3.png', 'Patient01692_Plane6_1_of_1.png']\n"
          ]
        }
      ],
      "source": [
        "base_path = \"/Users/macbookair2020/Downloads/Ultrasound\"\n",
        "for folder in ['images', 'test']:\n",
        "    folder_path = os.path.join(base_path, folder)\n",
        "    print(f\"\\nContents of {folder_path}:\")\n",
        "    print(os.listdir(folder_path)[:10])"
      ]
    },
    {
      "cell_type": "code",
      "execution_count": null,
      "id": "9b0e8185-1790-489c-87da-a1a48d2cb0c9",
      "metadata": {
        "id": "9b0e8185-1790-489c-87da-a1a48d2cb0c9",
        "outputId": "9ab8fc11-41aa-48a7-9896-a87476674055"
      },
      "outputs": [
        {
          "name": "stdout",
          "output_type": "stream",
          "text": [
            "Folders inside Images:\n",
            "['Patient00902_Plane3_3_of_5.png', 'Patient01393_Plane3_1_of_2.png', 'Patient00902_Plane3_2_of_5.png', 'Patient01155_Plane3_3_of_6.png', 'Patient01165_Plane2_1_of_1.png', 'Patient00898_Plane6_3_of_4.png', 'Patient01232_Plane2_1_of_1.png', 'Patient00731_Plane6_3_of_4.png', 'Patient00846_Plane3_1_of_2.png', 'Patient00766_Plane6_3_of_6.png', 'Patient01046_Plane3_1_of_3.png', 'Patient00887_Plane5_1_of_1.png', 'Patient01647_Plane6_1_of_4.png', 'Patient01647_Plane2_2_of_2.png', 'Patient01297_Plane6_1_of_3.png', 'Patient01751_Plane6_2_of_2.png', 'Patient01578_Plane2_1_of_1.png', 'Patient01380_Plane6_3_of_3.png', 'Patient00951_Plane2_1_of_1.png', 'Patient01384_Plane3_2_of_3.png', 'Patient01106_Plane2_1_of_2.png', 'Patient00745_Plane3_1_of_3.png', 'Patient01187_Plane5_1_of_1.png', 'Patient00720_Plane5_2_of_2.png', 'Patient00774_Plane6_1_of_4.png', 'Patient01550_Plane2_1_of_1.png', 'Patient01433_Plane6_3_of_5.png', 'Patient00726_Plane6_1_of_5.png', 'Patient00999_Plane6_3_of_3.png', 'Patient01309_Plane6_1_of_2.png', 'Patient00644_Plane6_1_of_1.png', 'Patient00682_Plane3_2_of_3.png', 'Patient01610_Plane3_5_of_9.png', 'Patient01548_Plane6_2_of_3.png', 'Patient01579_Plane3_3_of_4.png', 'Patient00955_Plane6_2_of_2.png', 'Patient01146_Plane3_1_of_2.png', 'Patient01171_Plane5_2_of_2.png', 'Patient00948_Plane6_2_of_5.png', 'Patient01496_Plane6_1_of_1.png', 'Patient01733_Plane2_1_of_1.png', 'Patient01092_Plane6_1_of_3.png', 'Patient01625_Plane6_1_of_1.png', 'Patient01580_Plane2_1_of_1.png', 'Patient01531_Plane3_5_of_7.png', 'Patient00820_Plane3_1_of_3.png', 'Patient00949_Plane6_2_of_2.png', 'Patient01230_Plane3_5_of_5.png', 'Patient01137_Plane3_7_of_8.png', 'Patient01564_Plane3_2_of_2.png', 'Patient00811_Plane2_2_of_2.png', 'Patient00705_Plane2_1_of_2.png', 'Patient01035_Plane5_1_of_4.png', 'Patient00688_Plane6_1_of_1.png', 'Patient01176_Plane6_1_of_2.png', 'Patient01639_Plane6_1_of_1.png', 'Patient01411_Plane6_1_of_2.png', 'Patient01481_Plane3_2_of_4.png', 'Patient00998_Plane6_2_of_4.png', 'Patient01332_Plane2_1_of_1.png', 'Patient01007_Plane3_2_of_7.png', 'Patient00908_Plane3_1_of_2.png', 'Patient01402_Plane3_3_of_3.png', 'Patient00903_Plane2_1_of_1.png', 'Patient01707_Plane3_2_of_2.png', 'Patient01224_Plane6_1_of_1.png', 'Patient01181_Plane2_1_of_1.png', 'Patient01706_Plane3_3_of_4.png', 'Patient00717_Plane3_1_of_3.png', 'Patient01663_Plane3_4_of_5.png', 'Patient01325_Plane3_1_of_3.png', 'Patient00710_Plane3_6_of_6.png', 'Patient01209_Plane3_1_of_7.png', 'Patient01627_Plane5_2_of_2.png', 'Patient00832_Plane2_1_of_2.png', 'Patient01262_Plane5_1_of_5.png', 'Patient00803_Plane6_3_of_12.png', 'Patient01760_Plane3_3_of_4.png', 'Patient01761_Plane3_2_of_2.png', 'Patient01480_Plane2_1_of_1.png', 'Patient00917_Plane5_2_of_2.png', 'Patient01709_Plane3_1_of_1.png', 'Patient01478_Plane3_3_of_12.png', 'Patient00766_Plane2_1_of_1.png', 'Patient01678_Plane2_1_of_2.png', 'Patient01163_Plane5_1_of_1.png', 'Patient01696_Plane6_1_of_3.png', 'Patient01450_Plane2_1_of_1.png', 'Patient00899_Plane6_2_of_3.png', 'Patient00951_Plane3_3_of_3.png', 'Patient00882_Plane6_4_of_7.png', 'Patient00899_Plane6_3_of_3.png', 'Patient01679_Plane5_6_of_6.png', 'Patient00829_Plane3_5_of_5.png', 'Patient00884_Plane6_3_of_4.png', 'Patient01052_Plane5_1_of_2.png', 'Patient00763_Plane6_3_of_4.png', 'Patient01749_Plane2_1_of_1.png', 'Patient01120_Plane3_1_of_3.png', 'Patient00947_Plane6_1_of_1.png', 'Patient01550_Plane3_3_of_3.png', 'Patient01154_Plane3_3_of_3.png', 'Patient01398_Plane2_1_of_2.png', 'Patient00645_Plane3_1_of_1.png', 'Patient01610_Plane2_2_of_3.png', 'Patient01385_Plane6_3_of_3.png', 'Patient01142_Plane6_1_of_1.png', 'Patient00731_Plane2_1_of_1.png', 'Patient01557_Plane3_4_of_4.png', 'Patient00893_Plane3_1_of_2.png', 'Patient01533_Plane2_1_of_1.png', 'Patient01567_Plane5_1_of_1.png', 'Patient01407_Plane2_1_of_1.png', 'Patient00986_Plane3_4_of_4.png', 'Patient01160_Plane2_1_of_1.png', 'Patient00948_Plane3_3_of_3.png', 'Patient01019_Plane5_1_of_3.png', 'Patient00714_Plane3_8_of_8.png', 'Patient00906_Plane3_3_of_3.png', 'Patient00896_Plane6_3_of_12.png', 'Patient01693_Plane6_1_of_2.png', 'Patient01481_Plane6_2_of_3.png', 'Patient01750_Plane2_1_of_1.png', 'Patient01539_Plane6_1_of_1.png', 'Patient00764_Plane3_4_of_6.png', 'Patient00847_Plane6_1_of_2.png', 'Patient00960_Plane3_3_of_3.png', 'Patient01686_Plane5_1_of_1.png', 'Patient00960_Plane3_2_of_3.png', 'Patient01010_Plane6_1_of_1.png', 'Patient01063_Plane5_1_of_2.png', 'Patient01408_Plane6_1_of_2.png', 'Patient01477_Plane3_1_of_5.png', 'Patient00834_Plane5_1_of_1.png', 'Patient00763_Plane3_3_of_3.png', 'Patient01251_Plane2_1_of_1.png', 'Patient00879_Plane6_2_of_5.png', 'Patient01761_Plane6_3_of_5.png', 'Patient01025_Plane3_1_of_3.png', 'Patient01443_Plane6_1_of_1.png', 'Patient01028_Plane5_1_of_1.png', 'Patient00719_Plane2_1_of_1.png', 'Patient01124_Plane6_1_of_1.png', 'Patient01032_Plane2_1_of_1.png', 'Patient01449_Plane3_2_of_2.png', 'Patient01555_Plane2_1_of_1.png', 'Patient00757_Plane2_1_of_1.png', 'Patient01151_Plane2_1_of_2.png', 'Patient00782_Plane6_3_of_5.png', 'Patient01650_Plane2_1_of_1.png', 'Patient00948_Plane2_1_of_1.png', 'Patient01750_Plane3_3_of_3.png', 'Patient01609_Plane3_1_of_3.png', 'Patient01015_Plane6_1_of_3.png', 'Patient01761_Plane2_1_of_2.png', 'Patient01491_Plane5_2_of_2.png', 'Patient01297_Plane3_1_of_4.png', 'Patient01446_Plane6_1_of_3.png', 'Patient01096_Plane2_2_of_2.png', 'Patient00804_Plane3_4_of_5.png', 'Patient01467_Plane5_1_of_1.png', 'Patient01036_Plane6_2_of_3.png', 'Patient00631_Plane2_1_of_1.png', 'Patient00781_Plane6_5_of_5.png', 'Patient01518_Plane5_1_of_2.png', 'Patient00828_Plane6_5_of_5.png', 'Patient01702_Plane3_7_of_8.png', 'Patient01583_Plane5_1_of_1.png', 'Patient01636_Plane3_2_of_2.png', 'Patient00828_Plane6_4_of_5.png', 'Patient01381_Plane2_1_of_1.png', 'Patient00848_Plane6_2_of_6.png', 'Patient01507_Plane3_2_of_2.png', 'Patient00757_Plane3_2_of_3.png', 'Patient01032_Plane3_2_of_3.png', 'Patient00978_Plane6_2_of_3.png', 'Patient01098_Plane2_1_of_1.png', 'Patient00854_Plane2_1_of_1.png', 'Patient01718_Plane5_1_of_1.png', 'Patient00718_Plane3_3_of_5.png', 'Patient00838_Plane6_1_of_1.png', 'Patient01137_Plane2_1_of_2.png', 'Patient01351_Plane2_1_of_1.png', 'Patient01314_Plane3_1_of_2.png', 'Patient01461_Plane3_2_of_3.png', 'Patient01636_Plane2_1_of_1.png', 'Patient00765_Plane6_4_of_4.png', 'Patient00851_Plane6_2_of_4.png', 'Patient01535_Plane5_1_of_1.png', 'Patient01493_Plane3_1_of_5.png', 'Patient00860_Plane3_2_of_3.png', 'Patient00992_Plane6_1_of_1.png', 'Patient00894_Plane3_6_of_6.png', 'Patient01048_Plane2_1_of_1.png', 'Patient00691_Plane3_1_of_1.png', 'Patient01121_Plane3_1_of_2.png', 'Patient01383_Plane5_1_of_1.png', 'Patient01292_Plane6_1_of_6.png', 'Patient01080_Plane2_1_of_1.png', 'Patient01361_Plane3_2_of_2.png', 'Patient01162_Plane6_4_of_4.png', 'Patient01700_Plane5_1_of_1.png', 'Patient01351_Plane6_2_of_3.png', 'Patient01471_Plane5_2_of_2.png', 'Patient01636_Plane6_3_of_3.png', 'Patient00782_Plane3_2_of_4.png', 'Patient01660_Plane2_1_of_1.png', 'Patient00962_Plane5_1_of_1.png', 'Patient01733_Plane3_2_of_4.png', 'Patient01650_Plane3_2_of_6.png', 'Patient01750_Plane6_2_of_2.png', 'Patient01543_Plane2_3_of_3.png', 'Patient01050_Plane2_1_of_1.png', 'Patient01451_Plane3_2_of_3.png', 'Patient01582_Plane5_1_of_3.png', 'Patient01648_Plane2_1_of_1.png', 'Patient00305_Plane2_1_of_2.png', 'Patient01772_Plane3_1_of_1.png', 'Patient01062_Plane5_1_of_1.png', 'Patient01585_Plane6_2_of_2.png', 'Patient01431_Plane5_1_of_1.png', 'Patient01714_Plane2_2_of_2.png', 'Patient01692_Plane3_1_of_4.png', 'Patient00767_Plane3_2_of_3.png', 'Patient01210_Plane3_1_of_3.png', 'Patient01479_Plane2_1_of_1.png', 'Patient01046_Plane6_1_of_1.png', 'Patient01708_Plane2_2_of_2.png', 'Patient00978_Plane3_2_of_3.png', 'Patient01008_Plane6_1_of_1.png', 'Patient01760_Plane2_1_of_1.png', 'Patient00683_Plane3_2_of_2.png', 'Patient01300_Plane3_5_of_6.png', 'Patient01024_Plane3_1_of_1.png', 'Patient01227_Plane5_2_of_3.png', 'Patient00836_Plane2_1_of_1.png', 'Patient01249_Plane2_1_of_1.png', 'Patient01587_Plane5_1_of_1.png', 'Patient01654_Plane2_1_of_1.png', 'Patient01439_Plane3_1_of_1.png', 'Patient01164_Plane3_3_of_3.png', 'Patient01537_Plane3_6_of_9.png', 'Patient01096_Plane6_1_of_1.png', 'Patient01314_Plane6_1_of_2.png', 'Patient01106_Plane6_3_of_3.png', 'Patient01299_Plane2_1_of_1.png', 'Patient01106_Plane6_2_of_3.png', 'Patient01148_Plane6_3_of_3.png', 'Patient01203_Plane6_2_of_2.png', 'Patient01508_Plane3_1_of_2.png', 'Patient01602_Plane3_3_of_6.png', 'Patient01301_Plane6_4_of_5.png', 'Patient01724_Plane6_1_of_1.png', 'Patient00964_Plane2_1_of_1.png', 'Patient01618_Plane3_4_of_4.png', 'Patient00932_Plane6_6_of_9.png', 'Patient00843_Plane3_1_of_6.png', 'Patient01632_Plane2_1_of_1.png', 'Patient01666_Plane5_1_of_1.png', 'Patient01002_Plane2_1_of_1.png', 'Patient01018_Plane5_1_of_1.png', 'Patient00649_Plane5_1_of_1.png', 'Patient01304_Plane5_1_of_2.png', 'Patient01663_Plane5_1_of_2.png', 'Patient01178_Plane2_1_of_1.png', 'Patient01451_Plane2_1_of_1.png', 'Patient01414_Plane3_1_of_2.png', 'Patient00839_Plane6_1_of_2.png', 'Patient01238_Plane3_1_of_3.png', 'Patient01679_Plane2_1_of_2.png', 'Patient01225_Plane3_1_of_4.png', 'Patient01151_Plane3_11_of_13.png', 'Patient01706_Plane2_1_of_1.png', 'Patient01048_Plane6_2_of_2.png', 'Patient01339_Plane6_1_of_1.png', 'Patient00778_Plane6_4_of_6.png', 'Patient00885_Plane6_2_of_4.png', 'Patient01332_Plane3_3_of_4.png', 'Patient00778_Plane6_5_of_6.png', 'Patient01086_Plane5_1_of_1.png', 'Patient01097_Plane3_1_of_2.png', 'Patient01333_Plane3_2_of_2.png', 'Patient00977_Plane3_1_of_4.png', 'Patient01665_Plane2_1_of_1.png', 'Patient01271_Plane3_2_of_15.png', 'Patient01302_Plane2_1_of_1.png', 'Patient00929_Plane5_1_of_1.png', 'Patient01055_Plane2_1_of_1.png', 'Patient01229_Plane5_1_of_2.png', 'Patient01577_Plane3_1_of_2.png', 'Patient00168_Plane6_1_of_4.png', 'Patient01781_Plane2_1_of_1.png', 'Patient01267_Plane5_1_of_2.png', 'Patient00899_Plane2_1_of_1.png', 'Patient01020_Plane2_3_of_5.png', 'Patient01590_Plane5_2_of_2.png', 'Patient00936_Plane6_3_of_4.png', 'Patient01161_Plane2_1_of_1.png', 'Patient01135_Plane5_1_of_1.png', 'Patient01462_Plane3_4_of_4.png', 'Patient01564_Plane6_3_of_3.png', 'Patient01751_Plane2_1_of_1.png', 'Patient01061_Plane3_3_of_3.png', 'Patient00849_Plane6_2_of_7.png', 'Patient01085_Plane2_1_of_1.png', 'Patient01553_Plane3_5_of_7.png', 'Patient01293_Plane3_1_of_6.png', 'Patient01576_Plane6_1_of_1.png', 'Patient01533_Plane3_2_of_4.png', 'Patient01710_Plane6_1_of_2.png', 'Patient01030_Plane5_1_of_3.png', 'Patient01107_Plane2_1_of_1.png', 'Patient00791_Plane3_1_of_3.png', 'Patient01153_Plane5_1_of_1.png', 'Patient01250_Plane2_1_of_1.png', 'Patient00885_Plane3_2_of_3.png', 'Patient01284_Plane6_2_of_2.png', 'Patient00644_Plane2_2_of_2.png', 'Patient00786_Plane2_1_of_1.png', 'Patient00835_Plane5_1_of_1.png', 'Patient01409_Plane6_1_of_2.png', 'Patient01408_Plane2_2_of_2.png', 'Patient01779_Plane2_1_of_1.png', 'Patient00837_Plane6_3_of_3.png', 'Patient01751_Plane3_2_of_2.png', 'Patient01156_Plane5_1_of_2.png', 'Patient01133_Plane3_3_of_3.png', 'Patient01480_Plane3_2_of_6.png', 'Patient01682_Plane5_1_of_2.png', 'Patient01603_Plane2_1_of_1.png', 'Patient01160_Plane3_2_of_4.png', 'Patient00855_Plane3_2_of_3.png', 'Patient00718_Plane2_1_of_1.png', 'Patient01670_Plane2_4_of_6.png', 'Patient01496_Plane2_2_of_2.png', 'Patient01358_Plane5_2_of_2.png', 'Patient01406_Plane3_2_of_3.png', 'Patient01406_Plane3_3_of_3.png', 'Patient01651_Plane2_1_of_1.png', 'Patient01614_Plane3_1_of_2.png', 'Patient00907_Plane2_1_of_1.png', 'Patient01118_Plane5_1_of_3.png', 'Patient00921_Plane6_1_of_4.png', 'Patient01608_Plane3_1_of_3.png', 'Patient00896_Plane6_5_of_12.png', 'Patient01061_Plane2_1_of_1.png', 'Patient01432_Plane2_1_of_1.png', 'Patient00664_Plane5_1_of_1.png', 'Patient01493_Plane6_1_of_6.png', 'Patient01078_Plane2_1_of_3.png', 'Patient01557_Plane5_1_of_2.png', 'Patient01298_Plane6_2_of_2.png', 'Patient01299_Plane6_3_of_4.png', 'Patient01202_Plane2_1_of_1.png', 'Patient01582_Plane6_5_of_5.png', 'Patient01484_Plane3_2_of_2.png', 'Patient01167_Plane5_1_of_1.png', 'Patient00735_Plane6_2_of_5.png', 'Patient01771_Plane5_2_of_2.png', 'Patient00682_Plane6_2_of_2.png', 'Patient00837_Plane3_2_of_7.png', 'Patient00688_Plane3_1_of_1.png', 'Patient01105_Plane3_5_of_5.png', 'Patient00880_Plane6_2_of_4.png', 'Patient01782_Plane5_1_of_2.png', 'Patient00756_Plane3_3_of_3.png', 'Patient01757_Plane5_1_of_1.png', 'Patient01472_Plane2_2_of_2.png', 'Patient01397_Plane3_1_of_3.png', 'Patient01566_Plane6_4_of_4.png', 'Patient01350_Plane6_3_of_7.png', 'Patient00658_Plane3_1_of_1.png', 'Patient00730_Plane6_2_of_6.png', 'Patient00730_Plane6_3_of_6.png', 'Patient01318_Plane6_4_of_4.png', 'Patient01356_Plane6_4_of_4.png', 'Patient01534_Plane5_1_of_1.png', 'Patient01610_Plane6_1_of_2.png', 'Patient00963_Plane6_3_of_3.png', 'Patient01605_Plane3_2_of_2.png', 'Patient01574_Plane3_1_of_1.png', 'Patient01230_Plane2_1_of_1.png', 'Patient01501_Plane3_2_of_5.png', 'Patient01274_Plane3_1_of_4.png', 'Patient01167_Plane2_1_of_1.png', 'Patient01301_Plane2_1_of_2.png', 'Patient00835_Plane3_2_of_3.png', 'Patient00778_Plane2_1_of_1.png', 'Patient00841_Plane3_1_of_1.png', 'Patient01204_Plane3_2_of_3.png', 'Patient01645_Plane6_1_of_4.png', 'Patient00909_Plane5_2_of_2.png', 'Patient01304_Plane2_1_of_1.png', 'Patient01178_Plane5_1_of_2.png', 'Patient00961_Plane5_1_of_1.png', 'Patient01781_Plane6_4_of_4.png', 'Patient01324_Plane5_3_of_3.png', 'Patient00721_Plane3_1_of_3.png', 'Patient01118_Plane6_3_of_5.png', 'Patient00919_Plane6_6_of_8.png', 'Patient01071_Plane3_1_of_4.png', 'Patient00704_Plane5_1_of_1.png', 'Patient01517_Plane3_1_of_2.png', 'Patient01213_Plane3_4_of_8.png', 'Patient01185_Plane5_1_of_1.png', 'Patient01151_Plane5_1_of_4.png', 'Patient01009_Plane5_2_of_2.png', 'Patient01116_Plane3_1_of_3.png', 'Patient01218_Plane2_1_of_1.png', 'Patient01222_Plane2_2_of_3.png', 'Patient00829_Plane2_1_of_1.png', 'Patient01256_Plane2_1_of_1.png', 'Patient01598_Plane5_1_of_1.png', 'Patient01567_Plane3_2_of_5.png', 'Patient01144_Plane3_1_of_2.png', 'Patient01787_Plane3_2_of_2.png', 'Patient00749_Plane6_2_of_5.png', 'Patient01318_Plane3_3_of_3.png', 'Patient01601_Plane6_2_of_2.png', 'Patient00749_Plane6_3_of_5.png', 'Patient01483_Plane3_2_of_4.png', 'Patient01763_Plane2_1_of_1.png', 'Patient01726_Plane3_1_of_2.png', 'Patient00786_Plane6_4_of_5.png', 'Patient01271_Plane5_4_of_7.png', 'Patient01768_Plane3_1_of_2.png', 'Patient00861_Plane5_1_of_1.png', 'Patient01328_Plane6_3_of_3.png', 'Patient01518_Plane6_2_of_3.png', 'Patient00720_Plane6_1_of_1.png', 'Patient01652_Plane2_1_of_2.png', 'Patient01107_Plane5_1_of_1.png', 'Patient01434_Plane2_1_of_1.png', 'Patient01463_Plane6_2_of_5.png', 'Patient01023_Plane3_1_of_4.png', 'Patient01342_Plane5_2_of_2.png', 'Patient00792_Plane3_1_of_1.png', 'Patient01500_Plane2_1_of_1.png', 'Patient01291_Plane3_1_of_2.png', 'Patient00785_Plane6_2_of_5.png', 'Patient00667_Plane5_1_of_2.png', 'Patient01300_Plane3_2_of_6.png', 'Patient01400_Plane3_3_of_3.png', 'Patient01188_Plane3_1_of_2.png', 'Patient01603_Plane5_1_of_1.png', 'Patient00974_Plane6_1_of_3.png', 'Patient01055_Plane5_1_of_1.png', 'Patient01001_Plane2_1_of_1.png', 'Patient00995_Plane6_1_of_1.png', 'Patient01017_Plane3_1_of_5.png', 'Patient00967_Plane2_1_of_1.png', 'Patient01428_Plane3_3_of_3.png', 'Patient00778_Plane6_3_of_6.png', 'Patient01026_Plane6_1_of_2.png', 'Patient01059_Plane3_1_of_5.png', 'Patient01631_Plane2_1_of_1.png', 'Patient00879_Plane3_4_of_4.png', 'Patient01278_Plane5_1_of_1.png', 'Patient01295_Plane6_4_of_8.png', 'Patient01085_Plane5_1_of_1.png', 'Patient01004_Plane2_1_of_2.png', 'Patient01254_Plane3_5_of_5.png', 'Patient01635_Plane6_2_of_2.png', 'Patient01590_Plane2_2_of_2.png', 'Patient01029_Plane3_2_of_2.png', 'Patient01002_Plane5_1_of_1.png', 'Patient01766_Plane3_2_of_3.png', 'Patient01018_Plane2_1_of_1.png', 'Patient01316_Plane3_1_of_3.png', 'Patient01104_Plane3_2_of_2.png', 'Patient01490_Plane3_1_of_2.png', 'Patient01734_Plane3_2_of_2.png', 'Patient01481_Plane5_1_of_1.png', 'Patient00699_Plane2_1_of_1.png', 'Patient01752_Plane2_1_of_1.png', 'Patient01261_Plane5_1_of_1.png', 'Patient01388_Plane3_1_of_3.png', 'Patient00804_Plane2_1_of_1.png', 'Patient01117_Plane6_1_of_3.png', 'Patient01162_Plane2_1_of_1.png', 'Patient01588_Plane6_1_of_2.png', 'Patient01495_Plane3_1_of_1.png', 'Patient00848_Plane3_4_of_4.png', 'Patient01563_Plane3_2_of_3.png', 'Patient00785_Plane2_1_of_1.png', 'Patient00836_Plane5_1_of_1.png', 'Patient01012_Plane6_1_of_1.png', 'Patient00685_Plane3_2_of_3.png', 'Patient01684_Plane5_1_of_1.png', 'Patient00890_Plane6_1_of_1.png', 'Patient01712_Plane2_2_of_2.png', 'Patient01221_Plane5_2_of_2.png', 'Patient01512_Plane3_1_of_2.png', 'Patient01168_Plane6_1_of_1.png', 'Patient00755_Plane2_1_of_1.png', 'Patient00867_Plane6_3_of_4.png', 'Patient01126_Plane6_1_of_1.png', 'Patient00829_Plane6_2_of_4.png', 'Patient00829_Plane6_3_of_4.png', 'Patient00956_Plane2_1_of_1.png', 'Patient01716_Plane6_1_of_1.png', 'Patient01423_Plane3_1_of_1.png', 'Patient01155_Plane5_1_of_2.png', 'Patient01367_Plane2_1_of_1.png', 'Patient01069_Plane3_1_of_3.png', 'Patient00840_Plane6_1_of_1.png', 'Patient00894_Plane2_2_of_2.png', 'Patient01271_Plane3_10_of_15.png', 'Patient01312_Plane6_1_of_2.png', 'Patient00913_Plane3_1_of_3.png', 'Patient01347_Plane5_2_of_2.png', 'Patient01299_Plane6_4_of_4.png', 'Patient01141_Plane3_1_of_3.png', 'Patient01066_Plane6_2_of_2.png', 'Patient01728_Plane2_1_of_1.png', 'Patient01018_Plane3_2_of_3.png', 'Patient01317_Plane6_1_of_1.png', 'Patient00799_Plane2_1_of_1.png', 'Patient01171_Plane6_1_of_2.png', 'Patient00845_Plane6_1_of_3.png', 'Patient01201_Plane2_1_of_1.png', 'Patient01741_Plane6_1_of_2.png', 'Patient00944_Plane3_1_of_1.png', 'Patient01182_Plane6_2_of_2.png', 'Patient01156_Plane2_1_of_1.png', 'Patient00827_Plane3_1_of_3.png', 'Patient00629_Plane5_1_of_1.png', 'Patient00760_Plane3_2_of_4.png', 'Patient00869_Plane3_1_of_3.png', 'Patient01151_Plane3_6_of_13.png', 'Patient01440_Plane3_1_of_3.png', 'Patient01091_Plane3_1_of_2.png', 'Patient01159_Plane6_1_of_2.png', 'Patient01126_Plane3_1_of_5.png', 'Patient01566_Plane6_2_of_4.png', 'Patient01652_Plane3_2_of_2.png', 'Patient01186_Plane3_2_of_2.png', 'Patient01592_Plane5_2_of_5.png', 'Patient01267_Plane2_1_of_1.png', 'Patient01130_Plane2_1_of_1.png', 'Patient01215_Plane5_2_of_2.png', 'Patient01413_Plane3_1_of_4.png', 'Patient01318_Plane6_2_of_4.png', 'Patient01403_Plane5_1_of_1.png', 'Patient00870_Plane2_2_of_2.png', 'Patient01063_Plane3_2_of_4.png', 'Patient00735_Plane6_5_of_5.png', 'Patient01271_Plane3_5_of_15.png', 'Patient01647_Plane5_2_of_4.png', 'Patient00713_Plane5_2_of_2.png', 'Patient01463_Plane3_3_of_3.png', 'Patient00747_Plane6_1_of_4.png', 'Patient01545_Plane2_2_of_2.png', 'Patient01782_Plane6_2_of_6.png', 'Patient00855_Plane5_1_of_3.png', 'Patient00709_Plane2_2_of_2.png', 'Patient00708_Plane6_1_of_2.png', 'Patient01245_Plane6_1_of_1.png', 'Patient01417_Plane3_1_of_1.png', 'Patient00959_Plane6_1_of_3.png', 'Patient00962_Plane2_1_of_1.png', 'Patient01089_Plane3_1_of_2.png', 'Patient01098_Plane5_1_of_1.png', 'Patient01019_Plane6_2_of_4.png', 'Patient01702_Plane5_1_of_1.png', 'Patient01718_Plane2_1_of_1.png', 'Patient01564_Plane5_1_of_2.png', 'Patient00845_Plane3_1_of_2.png', 'Patient01530_Plane2_1_of_2.png', 'Patient01689_Plane6_1_of_3.png', 'Patient00901_Plane3_3_of_5.png', 'Patient01741_Plane3_1_of_3.png', 'Patient00868_Plane2_2_of_2.png', 'Patient01118_Plane3_2_of_6.png', 'Patient01166_Plane2_1_of_1.png', 'Patient01445_Plane3_1_of_4.png', 'Patient00761_Plane6_3_of_3.png', 'Patient00988_Plane6_1_of_1.png', 'Patient01052_Plane2_1_of_1.png', 'Patient00923_Plane3_1_of_3.png', 'Patient00737_Plane2_1_of_1.png', 'Patient00746_Plane6_3_of_11.png', 'Patient01026_Plane2_2_of_3.png', 'Patient01100_Plane3_2_of_2.png', 'Patient00834_Plane3_2_of_3.png', 'Patient01213_Plane6_1_of_1.png', 'Patient00856_Plane6_2_of_3.png', 'Patient01044_Plane3_1_of_5.png', 'Patient01232_Plane6_5_of_7.png', 'Patient00970_Plane3_1_of_4.png', 'Patient00711_Plane6_1_of_4.png', 'Patient01662_Plane2_1_of_1.png', 'Patient01512_Plane6_1_of_2.png', 'Patient01020_Plane5_2_of_2.png', 'Patient01301_Plane3_3_of_7.png', 'Patient00751_Plane2_1_of_1.png', 'Patient01507_Plane5_1_of_1.png', 'Patient01263_Plane3_3_of_3.png', 'Patient01610_Plane3_3_of_9.png', 'Patient01287_Plane2_1_of_1.png', 'Patient01600_Plane6_6_of_8.png', 'Patient01770_Plane3_1_of_1.png', 'Patient00852_Plane3_3_of_3.png', 'Patient00948_Plane6_4_of_5.png', 'Patient01756_Plane3_2_of_2.png', 'Patient00952_Plane2_1_of_1.png', 'Patient01088_Plane6_1_of_1.png', 'Patient00830_Plane6_2_of_3.png', 'Patient01275_Plane6_1_of_1.png', 'Patient01604_Plane2_1_of_1.png', 'Patient00777_Plane2_2_of_2.png', 'Patient00882_Plane3_2_of_3.png', 'Patient01730_Plane2_1_of_1.png', 'Patient00882_Plane3_3_of_3.png', 'Patient01556_Plane6_2_of_4.png', 'Patient01360_Plane6_5_of_7.png', 'Patient00866_Plane2_1_of_1.png', 'Patient01556_Plane6_3_of_4.png', 'Patient00905_Plane6_2_of_5.png', 'Patient01529_Plane3_3_of_3.png', 'Patient00995_Plane3_1_of_3.png', 'Patient01433_Plane6_4_of_5.png', 'Patient01680_Plane5_1_of_1.png', 'Patient01422_Plane3_1_of_2.png', 'Patient00850_Plane3_4_of_4.png', 'Patient00834_Plane2_1_of_1.png', 'Patient01181_Plane5_1_of_3.png', 'Patient01007_Plane3_5_of_7.png', 'Patient01251_Plane5_1_of_1.png', 'Patient01762_Plane2_1_of_1.png', 'Patient00755_Plane6_3_of_3.png', 'Patient01046_Plane5_3_of_3.png', 'Patient01046_Plane5_2_of_3.png', 'Patient01544_Plane3_1_of_2.png', 'Patient01459_Plane6_1_of_1.png', 'Patient01374_Plane3_1_of_2.png', 'Patient00930_Plane3_3_of_6.png', 'Patient01128_Plane3_3_of_3.png', 'Patient01262_Plane3_2_of_4.png', 'Patient01618_Plane2_1_of_1.png', 'Patient01780_Plane5_1_of_1.png', 'Patient01202_Plane3_4_of_7.png', 'Patient01000_Plane2_1_of_1.png', 'Patient01669_Plane3_1_of_3.png', 'Patient00829_Plane3_2_of_5.png', 'Patient00797_Plane6_1_of_1.png', 'Patient00707_Plane3_3_of_7.png', 'Patient01707_Plane5_1_of_3.png', 'Patient01419_Plane6_2_of_2.png', 'Patient00928_Plane2_1_of_1.png', 'Patient01762_Plane3_2_of_2.png', 'Patient01068_Plane2_2_of_2.png', 'Patient00930_Plane6_2_of_3.png', 'Patient01286_Plane3_3_of_5.png', 'Patient01372_Plane3_8_of_8.png', 'Patient01563_Plane6_2_of_2.png', 'Patient01286_Plane3_2_of_5.png', 'Patient01475_Plane2_2_of_2.png', 'Patient00806_Plane6_5_of_5.png', 'Patient01227_Plane3_1_of_4.png', 'Patient00709_Plane6_1_of_1.png', 'Patient01712_Plane3_1_of_5.png', 'Patient01458_Plane3_1_of_2.png', 'Patient01729_Plane3_3_of_3.png', 'Patient01265_Plane5_1_of_2.png', 'Patient00766_Plane5_1_of_1.png', 'Patient01575_Plane3_1_of_2.png', 'Patient01291_Plane6_1_of_3.png', 'Patient00698_Plane2_1_of_1.png', 'Patient01156_Plane3_3_of_5.png', 'Patient01344_Plane3_1_of_4.png', 'Patient01237_Plane5_1_of_3.png', 'Patient01629_Plane2_1_of_1.png', 'Patient01527_Plane3_1_of_3.png', 'Patient00851_Plane5_1_of_1.png', 'Patient01749_Plane5_1_of_1.png', 'Patient01234_Plane2_1_of_1.png', 'Patient01423_Plane6_1_of_2.png', 'Patient01721_Plane5_2_of_2.png', 'Patient01001_Plane6_2_of_3.png', 'Patient00652_Plane5_1_of_1.png', 'Patient01567_Plane2_1_of_3.png', 'Patient01137_Plane6_5_of_5.png', 'Patient01075_Plane6_1_of_1.png', 'Patient01187_Plane3_3_of_3.png', 'Patient01137_Plane6_4_of_5.png', 'Patient01557_Plane3_2_of_4.png', 'Patient01556_Plane3_2_of_2.png', 'Patient01035_Plane6_2_of_2.png', 'Patient00699_Plane3_2_of_4.png', 'Patient01060_Plane5_1_of_2.png', 'Patient01761_Plane6_4_of_5.png', 'Patient01248_Plane5_1_of_1.png', 'Patient01623_Plane6_1_of_1.png', 'Patient00879_Plane6_4_of_5.png', 'Patient00705_Plane5_1_of_2.png', 'Patient01628_Plane3_3_of_4.png', 'Patient01206_Plane5_1_of_1.png', 'Patient01122_Plane6_1_of_2.png', 'Patient01602_Plane5_1_of_3.png', 'Patient01105_Plane2_1_of_1.png', 'Patient01650_Plane5_1_of_2.png', 'Patient01486_Plane3_3_of_3.png', 'Patient00865_Plane6_4_of_4.png', 'Patient00948_Plane5_1_of_2.png', 'Patient01404_Plane3_2_of_2.png', 'Patient01163_Plane3_2_of_2.png', 'Patient00899_Plane3_4_of_4.png', 'Patient01556_Plane2_1_of_1.png', 'Patient00832_Plane5_1_of_2.png', 'Patient01456_Plane3_2_of_3.png', 'Patient01366_Plane2_1_of_1.png', 'Patient01524_Plane6_6_of_6.png', 'Patient00752_Plane5_1_of_1.png', 'Patient01594_Plane3_1_of_1.png', 'Patient01419_Plane3_3_of_4.png', 'Patient00716_Plane3_6_of_6.png', 'Patient01222_Plane6_1_of_1.png', 'Patient00866_Plane6_2_of_5.png', 'Patient00781_Plane6_3_of_5.png', 'Patient00961_Plane3_4_of_4.png', 'Patient00866_Plane6_3_of_5.png', 'Patient00721_Plane6_1_of_2.png', 'Patient01229_Plane3_2_of_4.png', 'Patient01229_Plane3_3_of_4.png', 'Patient01091_Plane6_1_of_1.png', 'Patient01011_Plane5_2_of_2.png', 'Patient01363_Plane2_1_of_3.png', 'Patient01358_Plane6_1_of_1.png', 'Patient00969_Plane6_1_of_1.png', 'Patient01729_Plane2_1_of_1.png', 'Patient00793_Plane3_1_of_2.png', 'Patient01365_Plane5_1_of_2.png', 'Patient00713_Plane6_9_of_9.png', 'Patient00859_Plane6_1_of_4.png', 'Patient01139_Plane5_2_of_3.png', 'Patient00713_Plane6_8_of_9.png', 'Patient01464_Plane5_1_of_1.png', 'Patient00822_Plane6_1_of_3.png', 'Patient00819_Plane2_1_of_1.png', 'Patient01031_Plane3_3_of_3.png', 'Patient00941_Plane6_1_of_1.png', 'Patient01755_Plane5_1_of_1.png', 'Patient01471_Plane6_1_of_2.png', 'Patient01701_Plane2_1_of_1.png', 'Patient01522_Plane3_1_of_1.png', 'Patient00877_Plane6_7_of_7.png', 'Patient00935_Plane6_2_of_3.png', 'Patient00305_Plane3_5_of_5.png', 'Patient01731_Plane3_2_of_6.png', 'Patient01648_Plane3_5_of_6.png', 'Patient01081_Plane5_1_of_1.png', 'Patient00957_Plane3_3_of_3.png', 'Patient00870_Plane6_1_of_2.png', 'Patient01069_Plane6_1_of_1.png', 'Patient01456_Plane2_1_of_1.png', 'Patient01294_Plane6_1_of_1.png', 'Patient01175_Plane3_1_of_4.png', 'Patient01535_Plane2_1_of_3.png', 'Patient00734_Plane5_1_of_1.png', 'Patient01119_Plane3_2_of_2.png', 'Patient00887_Plane6_2_of_7.png', 'Patient00848_Plane6_5_of_6.png', 'Patient00887_Plane6_3_of_7.png', 'Patient01113_Plane6_1_of_1.png', 'Patient01157_Plane3_2_of_2.png', 'Patient01262_Plane6_2_of_2.png', 'Patient01070_Plane6_1_of_3.png', 'Patient01785_Plane5_1_of_1.png', 'Patient01486_Plane2_1_of_1.png', 'Patient00708_Plane2_2_of_2.png', 'Patient00800_Plane6_2_of_5.png', 'Patient01200_Plane3_2_of_2.png', 'Patient00987_Plane3_3_of_3.png', 'Patient01765_Plane3_1_of_3.png', 'Patient00919_Plane6_8_of_8.png', 'Patient01425_Plane2_1_of_1.png', 'Patient00994_Plane5_1_of_1.png', 'Patient01096_Plane3_3_of_6.png', 'Patient01215_Plane2_1_of_1.png', 'Patient00977_Plane3_3_of_4.png', 'Patient01096_Plane3_2_of_6.png', 'Patient00769_Plane3_2_of_3.png', 'Patient00849_Plane6_1_of_7.png', 'Patient01192_Plane2_1_of_1.png', 'Patient01411_Plane3_2_of_3.png', 'Patient01553_Plane3_7_of_7.png', 'Patient01590_Plane5_1_of_2.png', 'Patient00890_Plane3_4_of_4.png', 'Patient01363_Plane3_7_of_7.png', 'Patient01449_Plane6_1_of_1.png', 'Patient00811_Plane3_3_of_5.png', 'Patient01038_Plane2_1_of_1.png', 'Patient00885_Plane3_1_of_3.png', 'Patient01412_Plane5_1_of_2.png', 'Patient01551_Plane2_2_of_2.png', 'Patient01068_Plane3_4_of_5.png', 'Patient01409_Plane6_2_of_2.png', 'Patient01055_Plane3_1_of_2.png', 'Patient01117_Plane3_5_of_6.png', 'Patient01010_Plane2_1_of_1.png', 'Patient01293_Plane3_3_of_6.png', 'Patient01239_Plane6_2_of_2.png', 'Patient00775_Plane2_1_of_1.png', 'Patient01293_Plane3_2_of_6.png', 'Patient00730_Plane3_1_of_2.png', 'Patient00721_Plane5_1_of_1.png', 'Patient01030_Plane5_2_of_3.png', 'Patient01510_Plane3_2_of_4.png', 'Patient01397_Plane2_1_of_1.png', 'Patient01170_Plane5_1_of_1.png', 'Patient00746_Plane3_4_of_6.png', 'Patient01124_Plane2_1_of_1.png', 'Patient01443_Plane2_1_of_1.png', 'Patient01310_Plane6_2_of_5.png', 'Patient00848_Plane3_1_of_4.png', 'Patient01014_Plane6_2_of_2.png', 'Patient00816_Plane5_1_of_1.png', 'Patient00806_Plane3_1_of_4.png', 'Patient00975_Plane5_1_of_2.png', 'Patient00216_Plane6_2_of_3.png', 'Patient00897_Plane6_3_of_5.png', 'Patient01118_Plane5_3_of_3.png', 'Patient00849_Plane3_1_of_3.png', 'Patient01092_Plane2_1_of_1.png', 'Patient01521_Plane6_2_of_2.png', 'Patient01211_Plane3_2_of_6.png', 'Patient01343_Plane6_3_of_3.png', 'Patient00832_Plane6_1_of_1.png', 'Patient01668_Plane5_1_of_1.png', 'Patient01696_Plane3_3_of_3.png', 'Patient01485_Plane3_1_of_4.png', 'Patient00824_Plane3_2_of_3.png', 'Patient01270_Plane5_1_of_2.png', 'Patient00817_Plane6_1_of_8.png', 'Patient01225_Plane6_2_of_2.png', 'Patient01665_Plane3_1_of_3.png', 'Patient00769_Plane2_1_of_1.png', 'Patient01493_Plane6_3_of_6.png', 'Patient01600_Plane5_2_of_2.png', 'Patient01680_Plane6_1_of_1.png', 'Patient01708_Plane3_2_of_2.png', 'Patient01479_Plane3_1_of_1.png', 'Patient01782_Plane6_6_of_6.png', 'Patient01472_Plane2_1_of_2.png', 'Patient01378_Plane3_1_of_2.png', 'Patient01437_Plane3_1_of_1.png', 'Patient01114_Plane6_2_of_2.png', 'Patient01297_Plane2_1_of_1.png', 'Patient01132_Plane6_1_of_1.png', 'Patient01345_Plane3_5_of_5.png', 'Patient00944_Plane6_4_of_4.png', 'Patient00682_Plane6_1_of_2.png', 'Patient01481_Plane2_2_of_2.png', 'Patient01491_Plane3_5_of_5.png', 'Patient01632_Plane6_1_of_4.png', 'Patient01301_Plane5_2_of_2.png', 'Patient01752_Plane5_2_of_2.png', 'Patient00946_Plane6_2_of_2.png', 'Patient00716_Plane6_2_of_5.png', 'Patient01144_Plane5_1_of_1.png', 'Patient01620_Plane3_2_of_3.png', 'Patient01309_Plane3_3_of_3.png', 'Patient01043_Plane3_3_of_4.png', 'Patient01561_Plane6_1_of_1.png', 'Patient00929_Plane3_8_of_8.png', 'Patient01547_Plane6_2_of_2.png', 'Patient01350_Plane6_1_of_7.png', 'Patient00892_Plane3_2_of_3.png', 'Patient00730_Plane6_1_of_6.png', 'Patient00892_Plane3_3_of_3.png', 'Patient01173_Plane3_2_of_3.png', 'Patient01370_Plane5_1_of_1.png', 'Patient01361_Plane3_1_of_2.png', 'Patient01081_Plane6_1_of_1.png', 'Patient01636_Plane6_1_of_3.png', 'Patient01197_Plane2_1_of_1.png', 'Patient01659_Plane5_1_of_1.png', 'Patient00803_Plane5_4_of_5.png', 'Patient01471_Plane5_1_of_2.png', 'Patient00876_Plane6_3_of_5.png', 'Patient01351_Plane6_1_of_3.png', 'Patient01398_Plane6_1_of_1.png', 'Patient01237_Plane6_1_of_2.png', 'Patient01249_Plane3_1_of_3.png', 'Patient01785_Plane6_1_of_1.png', 'Patient01693_Plane2_1_of_1.png', 'Patient01572_Plane3_2_of_2.png', 'Patient00782_Plane3_1_of_4.png', 'Patient00864_Plane3_1_of_2.png', 'Patient01545_Plane5_1_of_2.png', 'Patient00973_Plane3_2_of_2.png', 'Patient01777_Plane2_1_of_1.png', 'Patient01039_Plane6_2_of_2.png', 'Patient00695_Plane3_3_of_4.png', 'Patient01274_Plane3_4_of_4.png', 'Patient00854_Plane6_1_of_3.png', 'Patient01210_Plane2_1_of_1.png', 'Patient00759_Plane3_3_of_4.png', 'Patient00690_Plane6_2_of_2.png', 'Patient01026_Plane3_4_of_6.png', 'Patient01611_Plane3_2_of_3.png', 'Patient01175_Plane5_1_of_1.png', 'Patient01026_Plane3_5_of_6.png', 'Patient01498_Plane3_1_of_1.png', 'Patient01778_Plane6_1_of_2.png', 'Patient01620_Plane6_2_of_4.png', 'Patient00829_Plane5_3_of_3.png', 'Patient00914_Plane3_3_of_4.png', 'Patient00969_Plane5_1_of_1.png', 'Patient00959_Plane3_4_of_4.png', 'Patient01306_Plane3_1_of_4.png', 'Patient01580_Plane6_1_of_1.png', 'Patient01002_Plane3_1_of_3.png', 'Patient00811_Plane6_3_of_3.png', 'Patient00719_Plane6_1_of_2.png', 'Patient01653_Plane3_2_of_11.png', 'Patient01236_Plane3_1_of_1.png', 'Patient01354_Plane3_1_of_5.png', 'Patient00919_Plane6_2_of_8.png', 'Patient01714_Plane2_1_of_2.png', 'Patient00873_Plane3_3_of_3.png', 'Patient00981_Plane6_1_of_1.png', 'Patient01198_Plane6_1_of_2.png', 'Patient00770_Plane2_1_of_1.png', 'Patient01526_Plane5_1_of_1.png', 'Patient00842_Plane6_2_of_4.png', 'Patient01278_Plane3_1_of_1.png', 'Patient01015_Plane2_1_of_1.png', 'Patient00929_Plane3_2_of_8.png', 'Patient01725_Plane3_2_of_2.png', 'Patient00945_Plane3_4_of_4.png', 'Patient00656_Plane3_1_of_1.png', 'Patient01176_Plane2_1_of_2.png', 'Patient01558_Plane3_5_of_5.png', 'Patient01632_Plane3_1_of_2.png', 'Patient01623_Plane5_1_of_1.png', 'Patient01677_Plane2_1_of_1.png', 'Patient00788_Plane3_2_of_3.png', 'Patient00891_Plane5_1_of_1.png', 'Patient01708_Plane2_1_of_2.png', 'Patient01047_Plane2_1_of_1.png', 'Patient01013_Plane5_1_of_1.png', 'Patient00738_Plane5_1_of_1.png', 'Patient01436_Plane6_1_of_1.png', 'Patient01350_Plane3_1_of_1.png', 'Patient01314_Plane6_2_of_2.png', 'Patient00813_Plane6_4_of_4.png', 'Patient00642_Plane5_1_of_1.png', 'Patient01765_Plane6_1_of_4.png', 'Patient01495_Plane5_1_of_2.png', 'Patient01256_Plane5_2_of_2.png', 'Patient01173_Plane2_1_of_1.png', 'Patient01136_Plane3_1_of_2.png', 'Patient01224_Plane2_1_of_1.png', 'Patient01271_Plane5_1_of_7.png', 'Patient00768_Plane6_2_of_2.png', 'Patient01717_Plane5_1_of_1.png', 'Patient00939_Plane6_2_of_3.png', 'Patient00977_Plane6_3_of_3.png', 'Patient01759_Plane5_1_of_1.png', 'Patient00758_Plane3_3_of_3.png', 'Patient01670_Plane3_4_of_7.png', 'Patient01254_Plane3_1_of_5.png', 'Patient01019_Plane2_5_of_5.png', 'Patient00694_Plane3_3_of_3.png', 'Patient01468_Plane5_1_of_1.png', 'Patient01372_Plane6_2_of_2.png', 'Patient01019_Plane2_4_of_5.png', 'Patient00965_Plane6_1_of_1.png', 'Patient00932_Plane6_5_of_9.png', 'Patient00770_Plane3_2_of_3.png', 'Patient01295_Plane6_1_of_8.png', 'Patient00740_Plane6_2_of_2.png', 'Patient00885_Plane6_1_of_4.png', 'Patient01097_Plane3_2_of_2.png', 'Patient01710_Plane3_2_of_5.png', 'Patient01075_Plane5_1_of_1.png', 'Patient01288_Plane5_1_of_1.png', 'Patient01324_Plane6_2_of_6.png', 'Patient00961_Plane2_2_of_2.png', 'Patient01679_Plane2_2_of_2.png', 'Patient01212_Plane5_1_of_4.png', 'Patient00839_Plane6_2_of_2.png', 'Patient01508_Plane2_1_of_1.png', 'Patient00672_Plane5_1_of_1.png', 'Patient00697_Plane3_4_of_7.png', 'Patient01385_Plane6_1_of_3.png', 'Patient01159_Plane5_1_of_1.png', 'Patient01697_Plane2_1_of_1.png', 'Patient00768_Plane3_2_of_3.png', 'Patient01398_Plane2_2_of_2.png', 'Patient01130_Plane5_2_of_4.png', 'Patient00704_Plane3_1_of_5.png', 'Patient01193_Plane2_1_of_1.png', 'Patient00816_Plane3_4_of_6.png', 'Patient01112_Plane5_1_of_2.png', 'Patient00931_Plane6_6_of_7.png', 'Patient00705_Plane3_1_of_3.png', 'Patient01688_Plane5_1_of_2.png', 'Patient00954_Plane3_1_of_2.png', 'Patient00948_Plane3_1_of_3.png', 'Patient01406_Plane6_1_of_1.png', 'Patient01093_Plane3_3_of_3.png', 'Patient01125_Plane3_2_of_2.png', 'Patient01544_Plane5_1_of_1.png', 'Patient00732_Plane6_7_of_7.png', 'Patient01111_Plane3_3_of_3.png', 'Patient01346_Plane2_1_of_1.png', 'Patient01063_Plane5_2_of_2.png', 'Patient01111_Plane3_2_of_3.png', 'Patient00825_Plane3_2_of_2.png', 'Patient01476_Plane3_3_of_3.png', 'Patient00909_Plane3_2_of_6.png', 'Patient00977_Plane2_1_of_1.png', 'Patient01524_Plane6_3_of_6.png', 'Patient00884_Plane3_1_of_3.png', 'Patient00815_Plane6_2_of_3.png', 'Patient01191_Plane3_4_of_4.png', 'Patient01524_Plane6_2_of_6.png', 'Patient01791_Plane5_1_of_1.png', 'Patient00846_Plane6_3_of_4.png', 'Patient01011_Plane2_1_of_1.png', 'Patient01047_Plane6_2_of_3.png', 'Patient01416_Plane5_1_of_1.png', 'Patient00854_Plane3_1_of_3.png', 'Patient01161_Plane3_1_of_4.png', 'Patient01047_Plane6_3_of_3.png', 'Patient01458_Plane5_1_of_1.png', 'Patient00713_Plane3_2_of_4.png', 'Patient00864_Plane6_1_of_2.png', 'Patient01573_Plane2_1_of_2.png', 'Patient01466_Plane6_3_of_8.png', 'Patient01761_Plane6_1_of_5.png', 'Patient01272_Plane2_1_of_1.png', 'Patient01025_Plane3_3_of_3.png', 'Patient00740_Plane3_2_of_3.png', 'Patient01676_Plane2_1_of_3.png', 'Patient01390_Plane5_1_of_1.png', 'Patient01761_Plane2_2_of_2.png', 'Patient01070_Plane3_4_of_6.png', 'Patient00878_Plane6_1_of_2.png', 'Patient01177_Plane2_1_of_1.png', 'Patient00958_Plane3_5_of_6.png', 'Patient00782_Plane6_1_of_5.png', 'Patient01713_Plane5_1_of_1.png', 'Patient01695_Plane3_5_of_5.png', 'Patient00723_Plane6_2_of_4.png', 'Patient01709_Plane2_1_of_1.png', 'Patient01450_Plane3_1_of_1.png', 'Patient01414_Plane6_2_of_2.png', 'Patient01653_Plane5_3_of_3.png', 'Patient01598_Plane6_1_of_1.png', 'Patient01202_Plane6_1_of_1.png', 'Patient01669_Plane5_1_of_1.png', 'Patient01702_Plane3_5_of_8.png', 'Patient01673_Plane2_1_of_1.png', 'Patient01592_Plane3_2_of_2.png', 'Patient01446_Plane6_3_of_3.png', 'Patient01524_Plane2_1_of_1.png', 'Patient01096_Plane2_1_of_2.png', 'Patient01043_Plane2_1_of_1.png', 'Patient01195_Plane5_1_of_1.png', 'Patient00788_Plane6_2_of_3.png', 'Patient01280_Plane3_1_of_5.png', 'Patient00855_Plane6_1_of_1.png', 'Patient00959_Plane5_1_of_1.png', 'Patient01020_Plane3_1_of_10.png', 'Patient00887_Plane6_6_of_7.png', 'Patient01715_Plane3_2_of_3.png', 'Patient01025_Plane2_1_of_1.png', 'Patient01542_Plane2_1_of_1.png', 'Patient00826_Plane5_1_of_2.png', 'Patient01272_Plane3_2_of_3.png', 'Patient00692_Plane3_5_of_5.png', 'Patient00714_Plane6_5_of_5.png', 'Patient01558_Plane5_1_of_1.png', 'Patient01133_Plane6_1_of_1.png', 'Patient00714_Plane6_4_of_5.png', 'Patient00762_Plane6_1_of_1.png', 'Patient01644_Plane5_1_of_2.png', 'Patient01493_Plane3_3_of_5.png', 'Patient01721_Plane2_1_of_1.png', 'Patient01538_Plane3_3_of_3.png', 'Patient01539_Plane3_3_of_5.png', 'Patient01731_Plane3_6_of_6.png', 'Patient00305_Plane3_1_of_5.png', 'Patient00847_Plane3_2_of_4.png', 'Patient01616_Plane5_1_of_1.png', 'Patient00711_Plane6_4_of_4.png', 'Patient01155_Plane3_1_of_6.png', 'Patient00743_Plane5_1_of_1.png', 'Patient01515_Plane2_1_of_1.png', 'Patient01026_Plane5_1_of_1.png', 'Patient01295_Plane5_1_of_1.png', 'Patient00814_Plane3_3_of_3.png', 'Patient01296_Plane6_3_of_5.png', 'Patient01085_Plane6_1_of_2.png', 'Patient00910_Plane6_2_of_2.png', 'Patient01597_Plane6_3_of_6.png', 'Patient01699_Plane3_1_of_2.png', 'Patient00789_Plane6_2_of_7.png', 'Patient01776_Plane2_1_of_1.png', 'Patient00874_Plane5_1_of_1.png', 'Patient01551_Plane6_1_of_1.png', 'Patient01664_Plane3_1_of_1.png', 'Patient00851_Plane3_1_of_3.png', 'Patient00726_Plane6_2_of_5.png', 'Patient00999_Plane6_1_of_3.png', 'Patient01710_Plane2_1_of_1.png', 'Patient01435_Plane5_2_of_2.png', 'Patient00746_Plane6_11_of_11.png', 'Patient01106_Plane2_2_of_2.png', 'Patient00774_Plane6_3_of_4.png', 'Patient01171_Plane5_1_of_2.png', 'Patient00718_Plane6_1_of_2.png', 'Patient01022_Plane3_5_of_5.png', 'Patient00972_Plane2_1_of_1.png', 'Patient01497_Plane2_1_of_1.png', 'Patient01732_Plane6_1_of_1.png', 'Patient00926_Plane5_1_of_1.png', 'Patient01624_Plane2_1_of_1.png', 'Patient01274_Plane5_1_of_3.png', 'Patient01738_Plane3_2_of_2.png', 'Patient01094_Plane5_1_of_4.png', 'Patient01279_Plane3_1_of_1.png', 'Patient01610_Plane3_7_of_9.png', 'Patient01602_Plane2_2_of_2.png', 'Patient00980_Plane6_1_of_1.png', 'Patient00955_Plane6_1_of_2.png', 'Patient01600_Plane6_2_of_8.png', 'Patient01052_Plane3_3_of_9.png', 'Patient00705_Plane2_2_of_2.png', 'Patient01035_Plane5_2_of_4.png', 'Patient01638_Plane2_1_of_1.png', 'Patient01760_Plane6_1_of_1.png', 'Patient01455_Plane3_1_of_1.png', 'Patient00907_Plane6_1_of_2.png', 'Patient01792_Plane2_1_of_1.png', 'Patient00739_Plane5_1_of_1.png', 'Patient00728_Plane3_1_of_2.png', 'Patient00949_Plane6_1_of_2.png', 'Patient01012_Plane5_1_of_1.png', 'Patient00811_Plane2_1_of_2.png', 'Patient01137_Plane3_4_of_8.png', 'Patient01126_Plane5_1_of_1.png', 'Patient01415_Plane2_1_of_1.png', 'Patient01081_Plane3_1_of_3.png', 'Patient01209_Plane3_2_of_7.png', 'Patient00832_Plane2_2_of_2.png', 'Patient01178_Plane3_1_of_4.png', 'Patient00305_Plane6_1_of_3.png', 'Patient00866_Plane5_2_of_2.png', 'Patient01209_Plane3_3_of_7.png', 'Patient01042_Plane6_2_of_2.png', 'Patient01749_Plane3_1_of_2.png', 'Patient01758_Plane5_1_of_1.png', 'Patient00840_Plane5_1_of_1.png', 'Patient01654_Plane6_1_of_1.png', 'Patient01779_Plane6_1_of_3.png', 'Patient00946_Plane3_2_of_2.png', 'Patient01155_Plane6_1_of_2.png', 'Patient00768_Plane2_1_of_2.png', 'Patient01473_Plane2_1_of_1.png', 'Patient01265_Plane2_2_of_2.png', 'Patient01497_Plane3_2_of_3.png', 'Patient01469_Plane5_1_of_1.png', 'Patient01129_Plane5_3_of_4.png', 'Patient01262_Plane5_3_of_5.png', 'Patient01243_Plane2_1_of_1.png', 'Patient00920_Plane3_2_of_2.png', 'Patient00771_Plane3_3_of_3.png', 'Patient01761_Plane3_1_of_2.png', 'Patient00908_Plane2_1_of_1.png', 'Patient00933_Plane6_1_of_3.png', 'Patient01120_Plane3_3_of_3.png', 'Patient01052_Plane5_2_of_2.png', 'Patient01377_Plane2_1_of_1.png', 'Patient00884_Plane6_1_of_4.png', 'Patient00707_Plane3_7_of_7.png', 'Patient00825_Plane6_3_of_5.png', 'Patient01224_Plane3_2_of_4.png', 'Patient01696_Plane6_2_of_3.png', 'Patient01509_Plane2_1_of_1.png', 'Patient01000_Plane5_3_of_3.png', 'Patient01606_Plane3_1_of_5.png', 'Patient01293_Plane2_1_of_1.png', 'Patient01136_Plane6_1_of_1.png', 'Patient01271_Plane3_15_of_15.png', 'Patient01662_Plane5_2_of_2.png', 'Patient01547_Plane2_1_of_1.png', 'Patient01289_Plane5_1_of_1.png', 'Patient00745_Plane2_1_of_1.png', 'Patient01299_Plane3_1_of_4.png', 'Patient01178_Plane6_1_of_1.png', 'Patient01344_Plane3_2_of_4.png', 'Patient01237_Plane5_3_of_3.png', 'Patient00699_Plane6_1_of_1.png', 'Patient00784_Plane3_1_of_2.png', 'Patient01622_Plane3_2_of_2.png', 'Patient00826_Plane2_1_of_1.png', 'Patient01344_Plane3_3_of_4.png', 'Patient01156_Plane3_1_of_5.png', 'Patient01770_Plane2_1_of_1.png', 'Patient00931_Plane6_1_of_7.png', 'Patient01287_Plane3_1_of_1.png', 'Patient01612_Plane6_2_of_3.png', 'Patient00746_Plane6_7_of_11.png', 'Patient01473_Plane5_1_of_1.png', 'Patient01386_Plane6_1_of_3.png', 'Patient00996_Plane5_1_of_1.png', 'Patient01427_Plane2_1_of_1.png', 'Patient01013_Plane3_2_of_4.png', 'Patient00958_Plane6_2_of_2.png', 'Patient01012_Plane3_2_of_2.png', 'Patient00697_Plane3_2_of_7.png', 'Patient01567_Plane2_3_of_3.png', 'Patient01289_Plane2_1_of_1.png', 'Patient01556_Plane3_1_of_2.png', 'Patient01187_Plane3_1_of_3.png', 'Patient01323_Plane2_1_of_1.png', 'Patient01086_Plane6_1_of_1.png', 'Patient01377_Plane5_1_of_1.png', 'Patient01053_Plane6_1_of_2.png', 'Patient01130_Plane5_4_of_4.png', 'Patient00912_Plane2_1_of_1.png', 'Patient00665_Plane3_1_of_1.png', 'Patient01426_Plane3_3_of_4.png', 'Patient01530_Plane3_1_of_2.png', 'Patient00723_Plane5_1_of_1.png', 'Patient00733_Plane3_1_of_4.png', 'Patient01469_Plane3_2_of_2.png', 'Patient00962_Plane3_1_of_5.png', 'Patient01486_Plane3_1_of_3.png', 'Patient01788_Plane2_1_of_1.png', 'Patient00990_Plane3_2_of_3.png', 'Patient01112_Plane3_3_of_3.png', 'Patient01391_Plane6_2_of_2.png', 'Patient00990_Plane3_3_of_3.png', 'Patient01602_Plane5_3_of_3.png', 'Patient00974_Plane2_1_of_1.png', 'Patient01734_Plane6_1_of_1.png', 'Patient01602_Plane5_2_of_3.png', 'Patient01122_Plane6_2_of_2.png', 'Patient01428_Plane6_5_of_8.png', 'Patient01217_Plane3_2_of_2.png', 'Patient01322_Plane3_3_of_4.png', 'Patient01477_Plane3_4_of_5.png', 'Patient01043_Plane5_1_of_2.png', 'Patient01456_Plane3_1_of_3.png', 'Patient01524_Plane6_4_of_6.png', 'Patient01191_Plane3_3_of_4.png', 'Patient01298_Plane3_8_of_9.png', 'Patient01716_Plane2_1_of_1.png', 'Patient01616_Plane3_3_of_3.png', 'Patient01126_Plane2_1_of_1.png', 'Patient01163_Plane3_1_of_2.png', 'Patient01616_Plane3_2_of_3.png', 'Patient01075_Plane3_3_of_4.png', 'Patient00780_Plane6_1_of_3.png', 'Patient01267_Plane3_1_of_4.png', 'Patient00781_Plane6_1_of_5.png', 'Patient01710_Plane5_1_of_1.png', 'Patient01011_Plane5_1_of_2.png', 'Patient01433_Plane5_2_of_3.png', 'Patient00742_Plane3_2_of_4.png', 'Patient01100_Plane2_2_of_3.png', 'Patient01647_Plane3_1_of_9.png', 'Patient01433_Plane5_3_of_3.png', 'Patient01541_Plane3_2_of_2.png', 'Patient01742_Plane6_4_of_4.png', 'Patient01447_Plane5_1_of_1.png', 'Patient01174_Plane2_1_of_1.png', 'Patient01657_Plane6_1_of_2.png', 'Patient01573_Plane5_1_of_1.png', 'Patient01070_Plane3_2_of_6.png', 'Patient00926_Plane2_1_of_1.png', 'Patient01722_Plane3_2_of_2.png', 'Patient01694_Plane3_2_of_3.png', 'Patient01695_Plane3_2_of_5.png', 'Patient01067_Plane6_1_of_2.png', 'Patient01140_Plane3_3_of_3.png', 'Patient01541_Plane2_1_of_1.png', 'Patient01389_Plane3_2_of_2.png', 'Patient01535_Plane2_3_of_3.png', 'Patient00840_Plane3_3_of_3.png', 'Patient01535_Plane2_2_of_3.png', 'Patient00840_Plane3_2_of_3.png', 'Patient00894_Plane3_2_of_6.png', 'Patient01196_Plane5_1_of_1.png', 'Patient01658_Plane2_1_of_1.png', 'Patient01267_Plane6_1_of_1.png', 'Patient01304_Plane6_1_of_3.png', 'Patient00731_Plane5_2_of_2.png', 'Patient00882_Plane2_2_of_2.png', 'Patient00765_Plane6_1_of_4.png', 'Patient01775_Plane6_3_of_5.png', 'Patient01592_Plane6_5_of_7.png', 'Patient00820_Plane6_5_of_5.png', 'Patient00708_Plane2_1_of_2.png', 'Patient01738_Plane5_1_of_1.png', 'Patient01634_Plane6_1_of_1.png', 'Patient00820_Plane5_1_of_1.png', 'Patient00793_Plane2_1_of_1.png', 'Patient01433_Plane3_3_of_8.png', 'Patient01108_Plane5_1_of_1.png', 'Patient00848_Plane6_6_of_6.png', 'Patient01070_Plane6_3_of_3.png', 'Patient01070_Plane6_2_of_3.png', 'Patient01689_Plane6_2_of_3.png', 'Patient01516_Plane2_1_of_1.png', 'Patient00795_Plane5_1_of_2.png', 'Patient01296_Plane6_5_of_5.png', 'Patient01331_Plane3_1_of_3.png', 'Patient01445_Plane3_2_of_4.png', 'Patient00917_Plane2_1_of_1.png', 'Patient00943_Plane5_1_of_1.png', 'Patient01271_Plane3_12_of_15.png', 'Patient00959_Plane2_1_of_1.png', 'Patient01171_Plane3_3_of_3.png', 'Patient01641_Plane2_1_of_1.png', 'Patient01232_Plane6_6_of_7.png', 'Patient00781_Plane3_1_of_2.png', 'Patient01179_Plane5_2_of_2.png', 'Patient01152_Plane3_1_of_3.png', 'Patient00711_Plane6_2_of_4.png', 'Patient01232_Plane5_2_of_3.png', 'Patient01155_Plane3_6_of_6.png', 'Patient00804_Plane6_1_of_2.png', 'Patient01691_Plane2_1_of_1.png', 'Patient01312_Plane3_2_of_3.png', 'Patient01026_Plane2_1_of_3.png', 'Patient01488_Plane3_2_of_3.png', 'Patient01422_Plane2_1_of_1.png', 'Patient01191_Plane6_2_of_2.png', 'Patient01190_Plane2_1_of_2.png', 'Patient00953_Plane6_1_of_1.png', 'Patient01747_Plane5_1_of_1.png', 'Patient01274_Plane2_1_of_1.png', 'Patient01220_Plane5_1_of_1.png', 'Patient00777_Plane2_1_of_2.png', 'Patient01134_Plane3_1_of_3.png', 'Patient01641_Plane3_2_of_2.png', 'Patient01574_Plane6_2_of_2.png', 'Patient01129_Plane3_1_of_4.png', 'Patient00837_Plane5_2_of_2.png', 'Patient01552_Plane6_1_of_1.png', 'Patient01390_Plane2_1_of_1.png', 'Patient01622_Plane6_3_of_4.png', 'Patient01410_Plane5_1_of_1.png', 'Patient00692_Plane6_2_of_2.png', 'Patient01600_Plane6_5_of_8.png', 'Patient00188_Plane5_1_of_1.png', 'Patient00726_Plane5_1_of_1.png', 'Patient00772_Plane2_1_of_1.png', 'Patient01101_Plane6_1_of_1.png', 'Patient01225_Plane5_1_of_2.png', 'Patient01669_Plane2_1_of_1.png', 'Patient00925_Plane5_1_of_1.png', 'Patient00696_Plane2_1_of_1.png', 'Patient00774_Plane6_4_of_4.png', 'Patient01648_Plane5_2_of_5.png', 'Patient01360_Plane6_6_of_7.png', 'Patient00905_Plane6_1_of_5.png', 'Patient01031_Plane2_2_of_2.png', 'Patient01305_Plane3_1_of_2.png', 'Patient01153_Plane6_1_of_1.png', 'Patient01000_Plane3_1_of_2.png', 'Patient01045_Plane2_1_of_1.png', 'Patient00720_Plane2_1_of_1.png', 'Patient01209_Plane3_4_of_7.png', 'Patient01522_Plane2_1_of_1.png', 'Patient00857_Plane3_1_of_1.png', 'Patient01675_Plane2_1_of_1.png', 'Patient00779_Plane3_1_of_3.png', 'Patient01181_Plane5_2_of_3.png', 'Patient00654_Plane3_1_of_1.png', 'Patient00966_Plane3_1_of_2.png', 'Patient01308_Plane5_1_of_1.png', 'Patient01040_Plane6_2_of_4.png', 'Patient01095_Plane2_1_of_1.png', 'Patient01562_Plane3_1_of_1.png', 'Patient01516_Plane3_2_of_3.png', 'Patient01587_Plane6_1_of_3.png', 'Patient01262_Plane3_1_of_4.png', 'Patient01171_Plane2_1_of_1.png', 'Patient01115_Plane3_4_of_4.png', 'Patient00927_Plane6_2_of_2.png', 'Patient01082_Plane3_1_of_3.png', 'Patient00972_Plane5_1_of_2.png', 'Patient00640_Plane5_1_of_1.png', 'Patient01137_Plane3_2_of_8.png', 'Patient01195_Plane3_2_of_3.png', 'Patient01544_Plane3_2_of_2.png', 'Patient01458_Plane2_1_of_1.png', 'Patient01195_Plane3_3_of_3.png', 'Patient01707_Plane5_3_of_3.png', 'Patient01027_Plane6_2_of_2.png', 'Patient01419_Plane6_1_of_2.png', 'Patient01165_Plane5_2_of_2.png', 'Patient01727_Plane2_1_of_1.png', 'Patient01470_Plane2_1_of_1.png', 'Patient00905_Plane3_1_of_1.png', 'Patient00818_Plane6_1_of_2.png', 'Patient01528_Plane6_1_of_1.png', 'Patient01659_Plane6_2_of_2.png', 'Patient01117_Plane2_1_of_1.png', 'Patient00823_Plane6_2_of_6.png', 'Patient01616_Plane2_1_of_2.png', 'Patient01159_Plane2_1_of_1.png', 'Patient00776_Plane3_2_of_6.png', 'Patient00746_Plane2_1_of_1.png', 'Patient00831_Plane3_1_of_1.png', 'Patient01023_Plane2_1_of_1.png', 'Patient01005_Plane2_2_of_2.png', 'Patient01004_Plane6_1_of_2.png', 'Patient00930_Plane6_1_of_3.png', 'Patient01374_Plane2_1_of_1.png', 'Patient01613_Plane2_1_of_1.png', 'Patient01129_Plane5_4_of_4.png', 'Patient01189_Plane2_1_of_1.png', 'Patient00945_Plane2_1_of_1.png', 'Patient01475_Plane2_1_of_2.png', 'Patient00826_Plane6_2_of_5.png', 'Patient01193_Plane5_1_of_1.png', 'Patient01183_Plane3_1_of_4.png', 'Patient00869_Plane2_1_of_1.png', 'Patient01490_Plane3_2_of_2.png', 'Patient00794_Plane5_1_of_1.png', 'Patient01766_Plane3_1_of_3.png', 'Patient01372_Plane5_1_of_4.png', 'Patient01695_Plane2_1_of_1.png', 'Patient00811_Plane3_5_of_5.png', 'Patient00942_Plane5_1_of_2.png', 'Patient01115_Plane5_1_of_1.png', 'Patient01104_Plane3_1_of_2.png', 'Patient01663_Plane6_1_of_4.png', 'Patient01512_Plane2_1_of_1.png', 'Patient00755_Plane3_1_of_2.png', 'Patient01117_Plane6_2_of_3.png', 'Patient00664_Plane3_1_of_1.png', 'Patient01366_Plane3_1_of_4.png', 'Patient01240_Plane6_3_of_3.png', 'Patient01388_Plane3_3_of_3.png', 'Patient01013_Plane2_1_of_1.png', 'Patient00708_Plane3_2_of_6.png', 'Patient00746_Plane3_3_of_6.png', 'Patient01712_Plane2_1_of_2.png', 'Patient01679_Plane3_3_of_9.png', 'Patient01275_Plane2_1_of_2.png', 'Patient00738_Plane2_1_of_1.png', 'Patient01427_Plane3_3_of_4.png', 'Patient01670_Plane2_1_of_6.png', 'Patient01221_Plane5_1_of_2.png', 'Patient00875_Plane3_2_of_3.png', 'Patient01563_Plane3_1_of_3.png', 'Patient01310_Plane6_4_of_5.png', 'Patient01004_Plane3_1_of_3.png', 'Patient01623_Plane2_1_of_1.png', 'Patient01058_Plane2_1_of_2.png', 'Patient01224_Plane5_1_of_1.png', 'Patient01155_Plane5_2_of_2.png', 'Patient01016_Plane2_1_of_2.png', 'Patient01068_Plane3_2_of_5.png', 'Patient00894_Plane2_1_of_2.png', 'Patient00867_Plane2_2_of_2.png', 'Patient01117_Plane3_2_of_6.png', 'Patient01173_Plane5_1_of_1.png', 'Patient00971_Plane6_2_of_2.png', 'Patient00932_Plane6_9_of_9.png', 'Patient00813_Plane2_1_of_1.png', 'Patient01238_Plane5_1_of_1.png', 'Patient01711_Plane5_1_of_1.png', 'Patient01745_Plane2_1_of_1.png', 'Patient00839_Plane3_4_of_4.png', 'Patient00819_Plane3_1_of_4.png', 'Patient00818_Plane3_1_of_2.png', 'Patient01539_Plane5_1_of_2.png', 'Patient00817_Plane6_7_of_8.png', 'Patient00817_Plane6_6_of_8.png', 'Patient00680_Plane3_1_of_1.png', 'Patient00913_Plane3_3_of_3.png', 'Patient01601_Plane5_4_of_4.png', 'Patient01493_Plane6_5_of_6.png', 'Patient00912_Plane3_2_of_5.png', 'Patient01392_Plane5_1_of_1.png', 'Patient01493_Plane6_4_of_6.png', 'Patient00897_Plane6_5_of_5.png', 'Patient01182_Plane6_1_of_2.png', 'Patient00826_Plane3_2_of_5.png', 'Patient01572_Plane5_1_of_1.png', 'Patient01526_Plane2_1_of_1.png', 'Patient01193_Plane3_4_of_5.png', 'Patient00760_Plane3_1_of_4.png', 'Patient00724_Plane2_1_of_1.png', 'Patient01671_Plane2_1_of_1.png', 'Patient01386_Plane3_1_of_1.png', 'Patient00803_Plane6_6_of_12.png', 'Patient01591_Plane3_3_of_4.png', 'Patient01244_Plane3_2_of_2.png', 'Patient01171_Plane6_2_of_2.png', 'Patient00746_Plane6_1_of_11.png', 'Patient00845_Plane6_3_of_3.png', 'Patient00716_Plane6_4_of_5.png', 'Patient01215_Plane5_1_of_2.png', 'Patient00737_Plane6_1_of_3.png', 'Patient01413_Plane3_3_of_4.png', 'Patient01069_Plane2_1_of_1.png', 'Patient00758_Plane6_4_of_5.png', 'Patient00870_Plane2_1_of_2.png', 'Patient00779_Plane6_1_of_3.png', 'Patient00742_Plane2_1_of_1.png', 'Patient01540_Plane2_1_of_1.png', 'Patient01717_Plane3_3_of_3.png', 'Patient01027_Plane2_1_of_1.png', 'Patient00956_Plane3_1_of_3.png', 'Patient01440_Plane3_2_of_3.png', 'Patient01567_Plane6_1_of_2.png', 'Patient01643_Plane5_1_of_1.png', 'Patient01126_Plane3_2_of_5.png', 'Patient01350_Plane6_6_of_7.png', 'Patient01223_Plane3_3_of_4.png', 'Patient01529_Plane6_1_of_2.png', 'Patient01153_Plane3_1_of_1.png', 'Patient01662_Plane6_1_of_3.png', 'Patient01659_Plane2_1_of_1.png', 'Patient01545_Plane2_1_of_2.png', 'Patient00917_Plane6_2_of_3.png', 'Patient01387_Plane6_1_of_2.png', 'Patient01537_Plane3_9_of_9.png', 'Patient00959_Plane6_3_of_3.png', 'Patient00855_Plane5_2_of_3.png', 'Patient00959_Plane6_2_of_3.png', 'Patient00855_Plane5_3_of_3.png', 'Patient00944_Plane6_2_of_4.png', 'Patient01071_Plane6_3_of_3.png', 'Patient00837_Plane3_6_of_7.png', 'Patient01526_Plane3_2_of_2.png', 'Patient00975_Plane3_3_of_3.png', 'Patient01139_Plane3_5_of_6.png', 'Patient01301_Plane2_2_of_2.png', 'Patient00741_Plane5_1_of_1.png', 'Patient01543_Plane5_1_of_1.png', 'Patient00858_Plane3_2_of_3.png', 'Patient01373_Plane5_1_of_1.png', 'Patient00958_Plane2_1_of_1.png', 'Patient00695_Plane3_4_of_4.png', 'Patient01341_Plane3_2_of_2.png', 'Patient01292_Plane6_5_of_6.png', 'Patient01178_Plane5_2_of_2.png', 'Patient00721_Plane3_3_of_3.png', 'Patient01045_Plane3_2_of_5.png', 'Patient00876_Plane6_5_of_5.png', 'Patient00934_Plane6_1_of_1.png', 'Patient00876_Plane6_4_of_5.png', 'Patient01494_Plane3_3_of_4.png', 'Patient01589_Plane2_1_of_1.png', 'Patient01110_Plane5_1_of_1.png', 'Patient00675_Plane5_1_of_1.png', 'Patient01329_Plane3_1_of_1.png', 'Patient01645_Plane6_2_of_4.png', 'Patient00909_Plane5_1_of_2.png', 'Patient00988_Plane2_1_of_1.png', 'Patient00896_Plane6_6_of_12.png', 'Patient00891_Plane2_1_of_2.png', 'Patient01213_Plane3_7_of_8.png', 'Patient01718_Plane3_1_of_4.png', 'Patient00709_Plane3_3_of_3.png', 'Patient01789_Plane2_1_of_2.png', 'Patient00739_Plane6_2_of_2.png', 'Patient01462_Plane6_1_of_2.png', 'Patient01009_Plane5_1_of_2.png', 'Patient00647_Plane2_1_of_1.png', 'Patient01445_Plane2_1_of_1.png', 'Patient00693_Plane6_2_of_2.png', 'Patient01491_Plane6_2_of_2.png', 'Patient00853_Plane3_1_of_3.png', 'Patient00919_Plane6_5_of_8.png', 'Patient01517_Plane3_2_of_2.png', 'Patient01100_Plane6_1_of_1.png', 'Patient01571_Plane2_1_of_1.png', 'Patient00749_Plane6_1_of_5.png', 'Patient01534_Plane3_1_of_2.png', 'Patient01053_Plane3_1_of_2.png', 'Patient00918_Plane6_1_of_4.png', 'Patient01721_Plane3_5_of_6.png', 'Patient01299_Plane5_2_of_2.png', 'Patient00924_Plane5_1_of_1.png', 'Patient01588_Plane3_3_of_4.png', 'Patient01774_Plane3_2_of_2.png', 'Patient01668_Plane2_1_of_1.png', 'Patient01588_Plane3_2_of_4.png', 'Patient01567_Plane3_1_of_5.png', 'Patient00847_Plane5_1_of_2.png', 'Patient01686_Plane6_1_of_1.png', 'Patient00883_Plane3_1_of_2.png', 'Patient00892_Plane5_1_of_1.png', 'Patient00950_Plane5_2_of_2.png', 'Patient01790_Plane2_1_of_1.png', 'Patient01700_Plane3_1_of_1.png', 'Patient01726_Plane3_2_of_2.png', 'Patient01271_Plane5_6_of_7.png', 'Patient01175_Plane2_1_of_2.png', 'Patient01768_Plane3_2_of_2.png', 'Patient01328_Plane6_1_of_3.png', 'Patient01743_Plane5_1_of_3.png', 'Patient00707_Plane2_2_of_2.png', 'Patient01234_Plane3_1_of_6.png', 'Patient01227_Plane2_1_of_1.png', 'Patient00785_Plane6_1_of_5.png', 'Patient00784_Plane6_1_of_3.png', 'Patient01118_Plane2_2_of_2.png', 'Patient01656_Plane6_1_of_1.png', 'Patient01023_Plane3_2_of_4.png', 'Patient01023_Plane3_3_of_4.png', 'Patient01640_Plane3_2_of_3.png', 'Patient01726_Plane2_1_of_1.png', 'Patient01489_Plane3_2_of_2.png', 'Patient01768_Plane2_1_of_1.png', 'Patient00778_Plane6_1_of_6.png', 'Patient00857_Plane6_1_of_2.png', 'Patient01080_Plane5_2_of_2.png', 'Patient01000_Plane6_1_of_1.png', 'Patient01668_Plane3_3_of_3.png', 'Patient01116_Plane2_1_of_1.png', 'Patient01142_Plane5_1_of_1.png', 'Patient01324_Plane6_4_of_6.png', 'Patient01754_Plane5_2_of_2.png', 'Patient01670_Plane3_3_of_7.png', 'Patient01307_Plane5_2_of_2.png', 'Patient01019_Plane2_2_of_5.png', 'Patient01067_Plane3_1_of_2.png', 'Patient01634_Plane2_2_of_2.png', 'Patient00942_Plane6_4_of_4.png', 'Patient01201_Plane3_1_of_1.png', 'Patient01134_Plane6_1_of_1.png', 'Patient01291_Plane2_1_of_1.png', 'Patient00932_Plane6_3_of_9.png', 'Patient00843_Plane3_5_of_6.png', 'Patient00932_Plane6_2_of_9.png', 'Patient01295_Plane6_7_of_8.png', 'Patient00964_Plane5_3_of_3.png', 'Patient01269_Plane3_2_of_2.png', 'Patient00930_Plane2_2_of_3.png', 'Patient01004_Plane2_2_of_2.png', 'Patient01094_Plane3_2_of_2.png']\n"
          ]
        }
      ],
      "source": [
        "base_path = \"/Users/macbookair2020/Downloads/Ultrasound\"\n",
        "Images_folder = os.path.join(base_path, \"Images\")\n",
        "\n",
        "print(\"Folders inside Images:\")\n",
        "print(os.listdir(Images_folder))"
      ]
    },
    {
      "cell_type": "code",
      "execution_count": null,
      "id": "a9a83129-ec1d-4b58-bcf8-ece7b1a948d0",
      "metadata": {
        "id": "a9a83129-ec1d-4b58-bcf8-ece7b1a948d0",
        "outputId": "49f8301c-5b14-447f-e4b8-dfd91dcfcc6b"
      },
      "outputs": [
        {
          "name": "stdout",
          "output_type": "stream",
          "text": [
            "Contents of images folder:\n",
            "['Patient00902_Plane3_3_of_5.png', 'Patient01393_Plane3_1_of_2.png', 'Patient00902_Plane3_2_of_5.png', 'Patient01155_Plane3_3_of_6.png', 'Patient01165_Plane2_1_of_1.png', 'Patient00898_Plane6_3_of_4.png', 'Patient01232_Plane2_1_of_1.png', 'Patient00731_Plane6_3_of_4.png', 'Patient00846_Plane3_1_of_2.png', 'Patient00766_Plane6_3_of_6.png']\n"
          ]
        }
      ],
      "source": [
        "base_path = \"/Users/macbookair2020/Downloads/Ultrasound\"\n",
        "Images_path = os.path.join(base_path, \"images\")\n",
        "\n",
        "print(\"Contents of images folder:\")\n",
        "print(os.listdir(Images_path)[:10])"
      ]
    },
    {
      "cell_type": "code",
      "execution_count": null,
      "id": "718627f2-8f7a-4507-b539-b206a3b78da1",
      "metadata": {
        "id": "718627f2-8f7a-4507-b539-b206a3b78da1",
        "outputId": "6452683a-86d9-4ef8-88bc-f2de1f761a86"
      },
      "outputs": [
        {
          "name": "stdout",
          "output_type": "stream",
          "text": [
            "Contents of test folder:\n",
            "['Patient01631_Plane1_14_of_16.png', 'Patient01657_Plane1_2_of_2.png', 'Patient01600_Plane6_1_of_8.png', 'Patient01663_Plane3_4_of_5.png', 'Patient01606_Plane3_2_of_5.png', 'Patient01696_Plane6_1_of_3.png', 'Patient01660_Plane6_2_of_2.png', 'Patient01697_Plane3_1_of_2.png', 'Patient01698_Plane6_2_of_3.png', 'Patient01692_Plane6_1_of_1.png']\n"
          ]
        }
      ],
      "source": [
        "base_path = \"/Users/macbookair2020/Downloads/Ultrasound\"\n",
        "test_path = os.path.join(base_path, \"test\")\n",
        "\n",
        "print(\"Contents of test folder:\")\n",
        "print(os.listdir(test_path)[:10])"
      ]
    },
    {
      "cell_type": "code",
      "execution_count": null,
      "id": "76f5ef0c-fc50-4135-9a42-f9a1effd6e67",
      "metadata": {
        "id": "76f5ef0c-fc50-4135-9a42-f9a1effd6e67",
        "outputId": "9a10056a-7726-4a15-8f36-2b12f82397fe"
      },
      "outputs": [
        {
          "name": "stdout",
          "output_type": "stream",
          "text": [
            "Found 1646 images.\n",
            "Found 0 masks.\n",
            "Total matched pairs: 0\n",
            "No image-mask pairs found.\n"
          ]
        }
      ],
      "source": [
        "from PIL import Image\n",
        "\n",
        "# Path\n",
        "base_path = \"/Users/macbookair2020/Downloads/Ultrasound\"\n",
        "Images_path = os.path.join(base_path, \"images\")\n",
        "\n",
        "# List all files\n",
        "all_files = os.listdir(Images_path)\n",
        "\n",
        "# Separate images and masks\n",
        "images = [f for f in all_files if \"_Annotation\" not in f and f.endswith(\".png\")]\n",
        "masks = [f for f in all_files if \"_Annotation\" in f and f.endswith(\".png\")]\n",
        "\n",
        "print(f\"Found {len(images)} images.\")\n",
        "print(f\"Found {len(masks)} masks.\")\n",
        "\n",
        "# Create mapping from image to mask\n",
        "image_mask_pairs = []\n",
        "for img_name in images:\n",
        "    # E.g. Patient00902_Plane3_3_of_5.png --> Patient00902_Plane3_3_of_5_Annotation.png\n",
        "    mask_name = img_name.replace(\".png\", \"_Annotation.png\")\n",
        "    if mask_name in masks:\n",
        "        image_mask_pairs.append((img_name, mask_name))\n",
        "\n",
        "print(f\"Total matched pairs: {len(image_mask_pairs)}\")\n",
        "\n",
        "# Plot one pair\n",
        "if image_mask_pairs:\n",
        "    img_name, mask_name = image_mask_pairs[0]\n",
        "    img_path = os.path.join(Images_path, img_name)\n",
        "    mask_path = os.path.join(Images_path, mask_name)\n",
        "\n",
        "    img = Image.open(img_path)\n",
        "    mask = Image.open(mask_path)\n",
        "\n",
        "    plt.figure(figsize=(10,5))\n",
        "    plt.subplot(1,2,1)\n",
        "    plt.imshow(img, cmap='gray')\n",
        "    plt.title(f\"Image: {img_name}\")\n",
        "\n",
        "    plt.subplot(1,2,2)\n",
        "    plt.imshow(mask, cmap='gray')\n",
        "    plt.title(f\"Mask: {mask_name}\")\n",
        "    plt.show()\n",
        "else:\n",
        "    print(\"No image-mask pairs found.\")"
      ]
    },
    {
      "cell_type": "code",
      "execution_count": null,
      "id": "abaac65c-e283-445d-84e2-02493165c86b",
      "metadata": {
        "id": "abaac65c-e283-445d-84e2-02493165c86b",
        "outputId": "a5cacf16-8743-4e34-cf61-168d7668a45b"
      },
      "outputs": [
        {
          "name": "stdout",
          "output_type": "stream",
          "text": [
            "Label file created:\n"
          ]
        },
        {
          "data": {
            "text/html": [
              "<div>\n",
              "<style scoped>\n",
              "    .dataframe tbody tr th:only-of-type {\n",
              "        vertical-align: middle;\n",
              "    }\n",
              "\n",
              "    .dataframe tbody tr th {\n",
              "        vertical-align: top;\n",
              "    }\n",
              "\n",
              "    .dataframe thead th {\n",
              "        text-align: right;\n",
              "    }\n",
              "</style>\n",
              "<table border=\"1\" class=\"dataframe\">\n",
              "  <thead>\n",
              "    <tr style=\"text-align: right;\">\n",
              "      <th></th>\n",
              "      <th>filename</th>\n",
              "      <th>gender</th>\n",
              "    </tr>\n",
              "  </thead>\n",
              "  <tbody>\n",
              "    <tr>\n",
              "      <th>0</th>\n",
              "      <td>Patient00902_Plane3_3_of_5.png</td>\n",
              "      <td>1</td>\n",
              "    </tr>\n",
              "    <tr>\n",
              "      <th>1</th>\n",
              "      <td>Patient01393_Plane3_1_of_2.png</td>\n",
              "      <td>0</td>\n",
              "    </tr>\n",
              "    <tr>\n",
              "      <th>2</th>\n",
              "      <td>Patient00902_Plane3_2_of_5.png</td>\n",
              "      <td>1</td>\n",
              "    </tr>\n",
              "    <tr>\n",
              "      <th>3</th>\n",
              "      <td>Patient01155_Plane3_3_of_6.png</td>\n",
              "      <td>0</td>\n",
              "    </tr>\n",
              "    <tr>\n",
              "      <th>4</th>\n",
              "      <td>Patient01165_Plane2_1_of_1.png</td>\n",
              "      <td>1</td>\n",
              "    </tr>\n",
              "    <tr>\n",
              "      <th>5</th>\n",
              "      <td>Patient00898_Plane6_3_of_4.png</td>\n",
              "      <td>0</td>\n",
              "    </tr>\n",
              "    <tr>\n",
              "      <th>6</th>\n",
              "      <td>Patient01232_Plane2_1_of_1.png</td>\n",
              "      <td>1</td>\n",
              "    </tr>\n",
              "    <tr>\n",
              "      <th>7</th>\n",
              "      <td>Patient00731_Plane6_3_of_4.png</td>\n",
              "      <td>0</td>\n",
              "    </tr>\n",
              "    <tr>\n",
              "      <th>8</th>\n",
              "      <td>Patient00846_Plane3_1_of_2.png</td>\n",
              "      <td>1</td>\n",
              "    </tr>\n",
              "    <tr>\n",
              "      <th>9</th>\n",
              "      <td>Patient00766_Plane6_3_of_6.png</td>\n",
              "      <td>0</td>\n",
              "    </tr>\n",
              "  </tbody>\n",
              "</table>\n",
              "</div>"
            ],
            "text/plain": [
              "                         filename  gender\n",
              "0  Patient00902_Plane3_3_of_5.png       1\n",
              "1  Patient01393_Plane3_1_of_2.png       0\n",
              "2  Patient00902_Plane3_2_of_5.png       1\n",
              "3  Patient01155_Plane3_3_of_6.png       0\n",
              "4  Patient01165_Plane2_1_of_1.png       1\n",
              "5  Patient00898_Plane6_3_of_4.png       0\n",
              "6  Patient01232_Plane2_1_of_1.png       1\n",
              "7  Patient00731_Plane6_3_of_4.png       0\n",
              "8  Patient00846_Plane3_1_of_2.png       1\n",
              "9  Patient00766_Plane6_3_of_6.png       0"
            ]
          },
          "execution_count": 82,
          "metadata": {},
          "output_type": "execute_result"
        }
      ],
      "source": [
        "data = {\n",
        "    'filename': ['Patient00902_Plane3_3_of_5.png','Patient01393_Plane3_1_of_2.png',\n",
        "                 'Patient00902_Plane3_2_of_5.png', 'Patient01155_Plane3_3_of_6.png',\n",
        "                 'Patient01165_Plane2_1_of_1.png', 'Patient00898_Plane6_3_of_4.png',\n",
        "                 'Patient01232_Plane2_1_of_1.png', 'Patient00731_Plane6_3_of_4.png',\n",
        "                 'Patient00846_Plane3_1_of_2.png', 'Patient00766_Plane6_3_of_6.png'],\n",
        "    'gender':   [1, 0, 1, 0, 1, 0, 1, 0, 1, 0]  # 1 = boy, 0 = girl\n",
        "}\n",
        "\n",
        "df = pd.DataFrame(data)\n",
        "df.to_csv('labels.csv', index=False)\n",
        "\n",
        "print(\"Label file created:\")\n",
        "df"
      ]
    },
    {
      "cell_type": "code",
      "execution_count": null,
      "id": "a59b25fa-81a4-4b71-b1d4-40edf84eed1a",
      "metadata": {
        "id": "a59b25fa-81a4-4b71-b1d4-40edf84eed1a",
        "outputId": "5b2532f2-7a0e-4f96-fb36-00a420cff06b"
      },
      "outputs": [
        {
          "name": "stdout",
          "output_type": "stream",
          "text": [
            "Loaded 10 images.\n",
            "Image shape: (128, 128)\n",
            "Final input shape for model: (10, 128, 128, 1)\n"
          ]
        }
      ],
      "source": [
        "# Paths\n",
        "base_path = \"/Users/macbookair2020/Downloads/Ultrasound\"\n",
        "images_img_folder = os.path.join(base_path, \"images\")\n",
        "\n",
        "# Read labels.csv\n",
        "labels_df = pd.read_csv('labels.csv')\n",
        "\n",
        "# Parameters\n",
        "IMG_SIZE = (128, 128)  # resize images to 128x128\n",
        "\n",
        "# Load images and labels into arrays\n",
        "images = []\n",
        "genders = []\n",
        "\n",
        "for idx, row in labels_df.iterrows():\n",
        "    img_path = os.path.join(images_img_folder, row['filename'])\n",
        "    # Open and resize image\n",
        "    img = Image.open(img_path).convert('L')  # convert to grayscale\n",
        "    img = img.resize(IMG_SIZE)\n",
        "    img_array = np.array(img) / 255.0  # normalize pixel values to [0,1]\n",
        "    images.append(img_array)\n",
        "    genders.append(row['gender'])\n",
        "\n",
        "# Convert to numpy arrays\n",
        "X = np.array(images)   # shape (N, 128, 128)\n",
        "y = np.array(genders)  # shape (N,)\n",
        "\n",
        "print(f\"Loaded {X.shape[0]} images.\")\n",
        "print(f\"Image shape: {X.shape[1:]}\")\n",
        "\n",
        "# Reshape X for ML model input (add channel dimension)\n",
        "X = X.reshape(-1, IMG_SIZE[0], IMG_SIZE[1], 1)  # shape (N, 128, 128, 1)\n",
        "print(\"Final input shape for model:\", X.shape)"
      ]
    },
    {
      "cell_type": "code",
      "source": [
        "import tensorflow as tf\n",
        "from tensorflow.keras import layers, models\n",
        "\n",
        "# Build model\n",
        "model = models.Sequential([\n",
        "    layers.Conv2D(16, (3,3), activation='relu', input_shape=(128,128,1)),\n",
        "    layers.MaxPooling2D(2,2),\n",
        "    layers.Conv2D(32, (3,3), activation='relu'),\n",
        "    layers.MaxPooling2D(2,2),\n",
        "    layers.Flatten(),\n",
        "    layers.Dense(64, activation='relu'),\n",
        "    layers.Dense(1, activation='sigmoid')  # binary classification\n",
        "])\n",
        "\n",
        "model.compile(optimizer='adam',\n",
        "              loss='binary_crossentropy',\n",
        "              metrics=['accuracy'])\n",
        "\n",
        "model.summary()\n",
        "\n",
        "print(\"Model built successfully!\")"
      ],
      "metadata": {
        "colab": {
          "base_uri": "https://localhost:8080/",
          "height": 437
        },
        "id": "gAVbqyOAXznD",
        "outputId": "5bdb5006-9e5c-4017-9f14-0d79ae5e1671"
      },
      "id": "gAVbqyOAXznD",
      "execution_count": 1,
      "outputs": [
        {
          "output_type": "stream",
          "name": "stderr",
          "text": [
            "/usr/local/lib/python3.12/dist-packages/keras/src/layers/convolutional/base_conv.py:113: UserWarning: Do not pass an `input_shape`/`input_dim` argument to a layer. When using Sequential models, prefer using an `Input(shape)` object as the first layer in the model instead.\n",
            "  super().__init__(activity_regularizer=activity_regularizer, **kwargs)\n"
          ]
        },
        {
          "output_type": "display_data",
          "data": {
            "text/plain": [
              "\u001b[1mModel: \"sequential\"\u001b[0m\n"
            ],
            "text/html": [
              "<pre style=\"white-space:pre;overflow-x:auto;line-height:normal;font-family:Menlo,'DejaVu Sans Mono',consolas,'Courier New',monospace\"><span style=\"font-weight: bold\">Model: \"sequential\"</span>\n",
              "</pre>\n"
            ]
          },
          "metadata": {}
        },
        {
          "output_type": "display_data",
          "data": {
            "text/plain": [
              "┏━━━━━━━━━━━━━━━━━━━━━━━━━━━━━━━━━┳━━━━━━━━━━━━━━━━━━━━━━━━┳━━━━━━━━━━━━━━━┓\n",
              "┃\u001b[1m \u001b[0m\u001b[1mLayer (type)                   \u001b[0m\u001b[1m \u001b[0m┃\u001b[1m \u001b[0m\u001b[1mOutput Shape          \u001b[0m\u001b[1m \u001b[0m┃\u001b[1m \u001b[0m\u001b[1m      Param #\u001b[0m\u001b[1m \u001b[0m┃\n",
              "┡━━━━━━━━━━━━━━━━━━━━━━━━━━━━━━━━━╇━━━━━━━━━━━━━━━━━━━━━━━━╇━━━━━━━━━━━━━━━┩\n",
              "│ conv2d (\u001b[38;5;33mConv2D\u001b[0m)                 │ (\u001b[38;5;45mNone\u001b[0m, \u001b[38;5;34m126\u001b[0m, \u001b[38;5;34m126\u001b[0m, \u001b[38;5;34m16\u001b[0m)   │           \u001b[38;5;34m160\u001b[0m │\n",
              "├─────────────────────────────────┼────────────────────────┼───────────────┤\n",
              "│ max_pooling2d (\u001b[38;5;33mMaxPooling2D\u001b[0m)    │ (\u001b[38;5;45mNone\u001b[0m, \u001b[38;5;34m63\u001b[0m, \u001b[38;5;34m63\u001b[0m, \u001b[38;5;34m16\u001b[0m)     │             \u001b[38;5;34m0\u001b[0m │\n",
              "├─────────────────────────────────┼────────────────────────┼───────────────┤\n",
              "│ conv2d_1 (\u001b[38;5;33mConv2D\u001b[0m)               │ (\u001b[38;5;45mNone\u001b[0m, \u001b[38;5;34m61\u001b[0m, \u001b[38;5;34m61\u001b[0m, \u001b[38;5;34m32\u001b[0m)     │         \u001b[38;5;34m4,640\u001b[0m │\n",
              "├─────────────────────────────────┼────────────────────────┼───────────────┤\n",
              "│ max_pooling2d_1 (\u001b[38;5;33mMaxPooling2D\u001b[0m)  │ (\u001b[38;5;45mNone\u001b[0m, \u001b[38;5;34m30\u001b[0m, \u001b[38;5;34m30\u001b[0m, \u001b[38;5;34m32\u001b[0m)     │             \u001b[38;5;34m0\u001b[0m │\n",
              "├─────────────────────────────────┼────────────────────────┼───────────────┤\n",
              "│ flatten (\u001b[38;5;33mFlatten\u001b[0m)               │ (\u001b[38;5;45mNone\u001b[0m, \u001b[38;5;34m28800\u001b[0m)          │             \u001b[38;5;34m0\u001b[0m │\n",
              "├─────────────────────────────────┼────────────────────────┼───────────────┤\n",
              "│ dense (\u001b[38;5;33mDense\u001b[0m)                   │ (\u001b[38;5;45mNone\u001b[0m, \u001b[38;5;34m64\u001b[0m)             │     \u001b[38;5;34m1,843,264\u001b[0m │\n",
              "├─────────────────────────────────┼────────────────────────┼───────────────┤\n",
              "│ dense_1 (\u001b[38;5;33mDense\u001b[0m)                 │ (\u001b[38;5;45mNone\u001b[0m, \u001b[38;5;34m1\u001b[0m)              │            \u001b[38;5;34m65\u001b[0m │\n",
              "└─────────────────────────────────┴────────────────────────┴───────────────┘\n"
            ],
            "text/html": [
              "<pre style=\"white-space:pre;overflow-x:auto;line-height:normal;font-family:Menlo,'DejaVu Sans Mono',consolas,'Courier New',monospace\">┏━━━━━━━━━━━━━━━━━━━━━━━━━━━━━━━━━┳━━━━━━━━━━━━━━━━━━━━━━━━┳━━━━━━━━━━━━━━━┓\n",
              "┃<span style=\"font-weight: bold\"> Layer (type)                    </span>┃<span style=\"font-weight: bold\"> Output Shape           </span>┃<span style=\"font-weight: bold\">       Param # </span>┃\n",
              "┡━━━━━━━━━━━━━━━━━━━━━━━━━━━━━━━━━╇━━━━━━━━━━━━━━━━━━━━━━━━╇━━━━━━━━━━━━━━━┩\n",
              "│ conv2d (<span style=\"color: #0087ff; text-decoration-color: #0087ff\">Conv2D</span>)                 │ (<span style=\"color: #00d7ff; text-decoration-color: #00d7ff\">None</span>, <span style=\"color: #00af00; text-decoration-color: #00af00\">126</span>, <span style=\"color: #00af00; text-decoration-color: #00af00\">126</span>, <span style=\"color: #00af00; text-decoration-color: #00af00\">16</span>)   │           <span style=\"color: #00af00; text-decoration-color: #00af00\">160</span> │\n",
              "├─────────────────────────────────┼────────────────────────┼───────────────┤\n",
              "│ max_pooling2d (<span style=\"color: #0087ff; text-decoration-color: #0087ff\">MaxPooling2D</span>)    │ (<span style=\"color: #00d7ff; text-decoration-color: #00d7ff\">None</span>, <span style=\"color: #00af00; text-decoration-color: #00af00\">63</span>, <span style=\"color: #00af00; text-decoration-color: #00af00\">63</span>, <span style=\"color: #00af00; text-decoration-color: #00af00\">16</span>)     │             <span style=\"color: #00af00; text-decoration-color: #00af00\">0</span> │\n",
              "├─────────────────────────────────┼────────────────────────┼───────────────┤\n",
              "│ conv2d_1 (<span style=\"color: #0087ff; text-decoration-color: #0087ff\">Conv2D</span>)               │ (<span style=\"color: #00d7ff; text-decoration-color: #00d7ff\">None</span>, <span style=\"color: #00af00; text-decoration-color: #00af00\">61</span>, <span style=\"color: #00af00; text-decoration-color: #00af00\">61</span>, <span style=\"color: #00af00; text-decoration-color: #00af00\">32</span>)     │         <span style=\"color: #00af00; text-decoration-color: #00af00\">4,640</span> │\n",
              "├─────────────────────────────────┼────────────────────────┼───────────────┤\n",
              "│ max_pooling2d_1 (<span style=\"color: #0087ff; text-decoration-color: #0087ff\">MaxPooling2D</span>)  │ (<span style=\"color: #00d7ff; text-decoration-color: #00d7ff\">None</span>, <span style=\"color: #00af00; text-decoration-color: #00af00\">30</span>, <span style=\"color: #00af00; text-decoration-color: #00af00\">30</span>, <span style=\"color: #00af00; text-decoration-color: #00af00\">32</span>)     │             <span style=\"color: #00af00; text-decoration-color: #00af00\">0</span> │\n",
              "├─────────────────────────────────┼────────────────────────┼───────────────┤\n",
              "│ flatten (<span style=\"color: #0087ff; text-decoration-color: #0087ff\">Flatten</span>)               │ (<span style=\"color: #00d7ff; text-decoration-color: #00d7ff\">None</span>, <span style=\"color: #00af00; text-decoration-color: #00af00\">28800</span>)          │             <span style=\"color: #00af00; text-decoration-color: #00af00\">0</span> │\n",
              "├─────────────────────────────────┼────────────────────────┼───────────────┤\n",
              "│ dense (<span style=\"color: #0087ff; text-decoration-color: #0087ff\">Dense</span>)                   │ (<span style=\"color: #00d7ff; text-decoration-color: #00d7ff\">None</span>, <span style=\"color: #00af00; text-decoration-color: #00af00\">64</span>)             │     <span style=\"color: #00af00; text-decoration-color: #00af00\">1,843,264</span> │\n",
              "├─────────────────────────────────┼────────────────────────┼───────────────┤\n",
              "│ dense_1 (<span style=\"color: #0087ff; text-decoration-color: #0087ff\">Dense</span>)                 │ (<span style=\"color: #00d7ff; text-decoration-color: #00d7ff\">None</span>, <span style=\"color: #00af00; text-decoration-color: #00af00\">1</span>)              │            <span style=\"color: #00af00; text-decoration-color: #00af00\">65</span> │\n",
              "└─────────────────────────────────┴────────────────────────┴───────────────┘\n",
              "</pre>\n"
            ]
          },
          "metadata": {}
        },
        {
          "output_type": "display_data",
          "data": {
            "text/plain": [
              "\u001b[1m Total params: \u001b[0m\u001b[38;5;34m1,848,129\u001b[0m (7.05 MB)\n"
            ],
            "text/html": [
              "<pre style=\"white-space:pre;overflow-x:auto;line-height:normal;font-family:Menlo,'DejaVu Sans Mono',consolas,'Courier New',monospace\"><span style=\"font-weight: bold\"> Total params: </span><span style=\"color: #00af00; text-decoration-color: #00af00\">1,848,129</span> (7.05 MB)\n",
              "</pre>\n"
            ]
          },
          "metadata": {}
        },
        {
          "output_type": "display_data",
          "data": {
            "text/plain": [
              "\u001b[1m Trainable params: \u001b[0m\u001b[38;5;34m1,848,129\u001b[0m (7.05 MB)\n"
            ],
            "text/html": [
              "<pre style=\"white-space:pre;overflow-x:auto;line-height:normal;font-family:Menlo,'DejaVu Sans Mono',consolas,'Courier New',monospace\"><span style=\"font-weight: bold\"> Trainable params: </span><span style=\"color: #00af00; text-decoration-color: #00af00\">1,848,129</span> (7.05 MB)\n",
              "</pre>\n"
            ]
          },
          "metadata": {}
        },
        {
          "output_type": "display_data",
          "data": {
            "text/plain": [
              "\u001b[1m Non-trainable params: \u001b[0m\u001b[38;5;34m0\u001b[0m (0.00 B)\n"
            ],
            "text/html": [
              "<pre style=\"white-space:pre;overflow-x:auto;line-height:normal;font-family:Menlo,'DejaVu Sans Mono',consolas,'Courier New',monospace\"><span style=\"font-weight: bold\"> Non-trainable params: </span><span style=\"color: #00af00; text-decoration-color: #00af00\">0</span> (0.00 B)\n",
              "</pre>\n"
            ]
          },
          "metadata": {}
        },
        {
          "output_type": "stream",
          "name": "stdout",
          "text": [
            "Model built successfully!\n"
          ]
        }
      ]
    }
  ],
  "metadata": {
    "kernelspec": {
      "display_name": "Python 3 (ipykernel)",
      "language": "python",
      "name": "python3"
    },
    "language_info": {
      "codemirror_mode": {
        "name": "ipython",
        "version": 3
      },
      "file_extension": ".py",
      "mimetype": "text/x-python",
      "name": "python",
      "nbconvert_exporter": "python",
      "pygments_lexer": "ipython3",
      "version": "3.13.5"
    },
    "colab": {
      "provenance": [],
      "include_colab_link": true
    }
  },
  "nbformat": 4,
  "nbformat_minor": 5
}